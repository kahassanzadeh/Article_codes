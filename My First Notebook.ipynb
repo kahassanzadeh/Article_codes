{
 "nbformat": 4,
 "nbformat_minor": 5,
 "metadata": {
  "kernel_info": {
   "name": "python3"
  },
  "noteable": {
   "last_transaction_id": "97e62c63-ae8f-4501-9b1e-b13b07649f5f"
  },
  "kernelspec": {
   "display_name": "Python 3.9",
   "language": "python",
   "name": "python3"
  },
  "selected_hardware_size": "small"
 },
 "cells": [
  {
   "id": "e88f41e211264883b44625548d8843ed",
   "cell_type": "code",
   "metadata": {
    "noteable": {
     "output_collection_id": "ae683ac3-4b68-43e8-9881-feeb8cc41071"
    },
    "ExecuteTime": {
     "end_time": "2023-09-08T16:33:31.250342Z",
     "start_time": "2023-09-08T16:33:31.248604Z"
    }
   },
   "execution_count": 1,
   "source": [
    "import numpy as np\n",
    "import pandas as pd\n",
    "import matplotlib.pyplot as plt\n",
    "import time"
   ],
   "outputs": []
  },
  {
   "id": "7e90b7dc-6002-44d4-bd58-227968265f4c",
   "cell_type": "code",
   "metadata": {
    "jupyter": {
     "outputs_hidden": true,
     "source_hidden": false
    },
    "noteable": {
     "cell_type": "code",
     "output_collection_id": "971eb01e-86fd-4a74-be3d-56655934a8d1"
    },
    "datalink": {
     "bb71842f-11f8-4155-9b4b-b1983b9eeb87": {
      "applied_filters": [],
      "dataframe_info": {
       "default_index_used": true,
       "orig_num_cols": 685,
       "orig_num_rows": 163,
       "orig_size_bytes": 894544,
       "truncated_num_cols": 100,
       "truncated_num_rows": 163,
       "truncated_size_bytes": 131704,
       "truncated_string_columns": []
      },
      "display_id": "bb71842f-11f8-4155-9b4b-b1983b9eeb87",
      "dx_settings": {
       "ALLOW_NOTEABLE_ATTRS": true,
       "COLUMN_SAMPLING_METHOD": "outer",
       "DB_LOCATION": ":memory:",
       "DEV_MODE": false,
       "DISPLAY_MAX_COLUMNS": 100,
       "DISPLAY_MAX_ROWS": 50000,
       "DISPLAY_MODE": "simple",
       "ENABLE_ASSIGNMENT": true,
       "ENABLE_DATALINK": true,
       "FLATTEN_COLUMN_VALUES": true,
       "FLATTEN_INDEX_VALUES": false,
       "GENERATE_DEX_METADATA": false,
       "HTML_TABLE_SCHEMA": false,
       "LOG_LEVEL": 30,
       "MAX_RENDER_SIZE_BYTES": 104857600,
       "MAX_STRING_LENGTH": 250,
       "NUM_PAST_SAMPLES_TRACKED": 3,
       "RANDOM_STATE": 12648430,
       "RESET_INDEX_VALUES": false,
       "ROW_SAMPLING_METHOD": "random",
       "SAMPLING_FACTOR": 0.1,
       "SAMPLING_METHOD": "random",
       "STRINGIFY_COLUMN_VALUES": true,
       "STRINGIFY_INDEX_VALUES": false
      },
      "sample_history": [],
      "sampling_time": "2023-08-04T07:04:03.421950",
      "user_variable_name": "data",
      "variable_name": "data"
     },
     "90f59ecd-681b-4d99-a6ae-9c133817a73c": {
      "applied_filters": [],
      "dataframe_info": {
       "default_index_used": true,
       "orig_num_cols": 685,
       "orig_num_rows": 163,
       "orig_size_bytes": 894544,
       "truncated_num_cols": 100,
       "truncated_num_rows": 163,
       "truncated_size_bytes": 131704,
       "truncated_string_columns": []
      },
      "display_id": "90f59ecd-681b-4d99-a6ae-9c133817a73c",
      "dx_settings": {
       "ALLOW_NOTEABLE_ATTRS": true,
       "COLUMN_SAMPLING_METHOD": "outer",
       "DB_LOCATION": ":memory:",
       "DEV_MODE": false,
       "DISPLAY_MAX_COLUMNS": 100,
       "DISPLAY_MAX_ROWS": 50000,
       "DISPLAY_MODE": "simple",
       "ENABLE_ASSIGNMENT": true,
       "ENABLE_DATALINK": true,
       "FLATTEN_COLUMN_VALUES": true,
       "FLATTEN_INDEX_VALUES": false,
       "GENERATE_DEX_METADATA": false,
       "HTML_TABLE_SCHEMA": false,
       "LOG_LEVEL": 30,
       "MAX_RENDER_SIZE_BYTES": 104857600,
       "MAX_STRING_LENGTH": 250,
       "NUM_PAST_SAMPLES_TRACKED": 3,
       "RANDOM_STATE": 12648430,
       "RESET_INDEX_VALUES": false,
       "ROW_SAMPLING_METHOD": "random",
       "SAMPLING_FACTOR": 0.1,
       "SAMPLING_METHOD": "random",
       "STRINGIFY_COLUMN_VALUES": true,
       "STRINGIFY_INDEX_VALUES": false
      },
      "sample_history": [],
      "sampling_time": "2023-08-05T14:00:32.232283",
      "user_variable_name": "data",
      "variable_name": "data"
     },
     "449c06e2-7ec0-405d-a344-c3c89c6cc02e": {
      "applied_filters": [],
      "dataframe_info": {
       "default_index_used": true,
       "orig_num_cols": 685,
       "orig_num_rows": 163,
       "orig_size_bytes": 894544,
       "truncated_num_cols": 100,
       "truncated_num_rows": 163,
       "truncated_size_bytes": 131704,
       "truncated_string_columns": []
      },
      "display_id": "449c06e2-7ec0-405d-a344-c3c89c6cc02e",
      "dx_settings": {
       "ALLOW_NOTEABLE_ATTRS": true,
       "COLUMN_SAMPLING_METHOD": "outer",
       "DB_LOCATION": ":memory:",
       "DEV_MODE": false,
       "DISPLAY_MAX_COLUMNS": 100,
       "DISPLAY_MAX_ROWS": 50000,
       "DISPLAY_MODE": "simple",
       "ENABLE_ASSIGNMENT": true,
       "ENABLE_DATALINK": true,
       "FLATTEN_COLUMN_VALUES": true,
       "FLATTEN_INDEX_VALUES": false,
       "GENERATE_DEX_METADATA": false,
       "HTML_TABLE_SCHEMA": false,
       "LOG_LEVEL": 30,
       "MAX_RENDER_SIZE_BYTES": 104857600,
       "MAX_STRING_LENGTH": 250,
       "NUM_PAST_SAMPLES_TRACKED": 3,
       "RANDOM_STATE": 12648430,
       "RESET_INDEX_VALUES": false,
       "ROW_SAMPLING_METHOD": "random",
       "SAMPLING_FACTOR": 0.1,
       "SAMPLING_METHOD": "random",
       "STRINGIFY_COLUMN_VALUES": true,
       "STRINGIFY_INDEX_VALUES": false
      },
      "sample_history": [],
      "sampling_time": "2023-08-05T15:07:26.893837",
      "user_variable_name": "data",
      "variable_name": "data"
     },
     "9b345c84-a590-4aa4-9dd1-eb64da102712": {
      "applied_filters": [],
      "dataframe_info": {
       "default_index_used": true,
       "orig_num_cols": 685,
       "orig_num_rows": 163,
       "orig_size_bytes": 894544,
       "truncated_num_cols": 100,
       "truncated_num_rows": 163,
       "truncated_size_bytes": 131704,
       "truncated_string_columns": []
      },
      "display_id": "9b345c84-a590-4aa4-9dd1-eb64da102712",
      "dx_settings": {
       "ALLOW_NOTEABLE_ATTRS": true,
       "COLUMN_SAMPLING_METHOD": "outer",
       "DB_LOCATION": ":memory:",
       "DEV_MODE": false,
       "DISPLAY_MAX_COLUMNS": 100,
       "DISPLAY_MAX_ROWS": 50000,
       "DISPLAY_MODE": "simple",
       "ENABLE_ASSIGNMENT": true,
       "ENABLE_DATALINK": true,
       "FLATTEN_COLUMN_VALUES": true,
       "FLATTEN_INDEX_VALUES": false,
       "GENERATE_DEX_METADATA": false,
       "HTML_TABLE_SCHEMA": false,
       "LOG_LEVEL": 30,
       "MAX_RENDER_SIZE_BYTES": 104857600,
       "MAX_STRING_LENGTH": 250,
       "NUM_PAST_SAMPLES_TRACKED": 3,
       "RANDOM_STATE": 12648430,
       "RESET_INDEX_VALUES": false,
       "ROW_SAMPLING_METHOD": "random",
       "SAMPLING_FACTOR": 0.1,
       "SAMPLING_METHOD": "random",
       "STRINGIFY_COLUMN_VALUES": true,
       "STRINGIFY_INDEX_VALUES": false
      },
      "sample_history": [],
      "sampling_time": "2023-08-06T06:29:36.803518",
      "user_variable_name": "data",
      "variable_name": "data"
     },
     "e8d46e08-ab7f-4629-8c0d-3b37b625ae0a": {
      "applied_filters": [],
      "dataframe_info": {
       "default_index_used": true,
       "orig_num_cols": 685,
       "orig_num_rows": 163,
       "orig_size_bytes": 894544,
       "truncated_num_cols": 100,
       "truncated_num_rows": 163,
       "truncated_size_bytes": 131704,
       "truncated_string_columns": []
      },
      "display_id": "e8d46e08-ab7f-4629-8c0d-3b37b625ae0a",
      "dx_settings": {
       "ALLOW_NOTEABLE_ATTRS": true,
       "COLUMN_SAMPLING_METHOD": "outer",
       "DB_LOCATION": ":memory:",
       "DEV_MODE": false,
       "DISPLAY_MAX_COLUMNS": 100,
       "DISPLAY_MAX_ROWS": 50000,
       "DISPLAY_MODE": "simple",
       "ENABLE_ASSIGNMENT": true,
       "ENABLE_DATALINK": true,
       "FLATTEN_COLUMN_VALUES": true,
       "FLATTEN_INDEX_VALUES": false,
       "GENERATE_DEX_METADATA": false,
       "HTML_TABLE_SCHEMA": false,
       "LOG_LEVEL": 30,
       "MAX_RENDER_SIZE_BYTES": 104857600,
       "MAX_STRING_LENGTH": 250,
       "NUM_PAST_SAMPLES_TRACKED": 3,
       "RANDOM_STATE": 12648430,
       "RESET_INDEX_VALUES": false,
       "ROW_SAMPLING_METHOD": "random",
       "SAMPLING_FACTOR": 0.1,
       "SAMPLING_METHOD": "random",
       "STRINGIFY_COLUMN_VALUES": true,
       "STRINGIFY_INDEX_VALUES": false
      },
      "sample_history": [],
      "sampling_time": "2023-08-09T19:57:39.651614",
      "user_variable_name": "data",
      "variable_name": "data"
     },
     "a2a42f30-70aa-43a2-ae7f-4d0bb4ced33f": {
      "applied_filters": [],
      "dataframe_info": {
       "default_index_used": true,
       "orig_num_cols": 685,
       "orig_num_rows": 163,
       "orig_size_bytes": 894544,
       "truncated_num_cols": 100,
       "truncated_num_rows": 163,
       "truncated_size_bytes": 131704,
       "truncated_string_columns": []
      },
      "display_id": "a2a42f30-70aa-43a2-ae7f-4d0bb4ced33f",
      "dx_settings": {
       "ALLOW_NOTEABLE_ATTRS": true,
       "COLUMN_SAMPLING_METHOD": "outer",
       "DB_LOCATION": ":memory:",
       "DEV_MODE": false,
       "DISPLAY_MAX_COLUMNS": 100,
       "DISPLAY_MAX_ROWS": 50000,
       "DISPLAY_MODE": "simple",
       "ENABLE_ASSIGNMENT": true,
       "ENABLE_DATALINK": true,
       "FLATTEN_COLUMN_VALUES": true,
       "FLATTEN_INDEX_VALUES": false,
       "GENERATE_DEX_METADATA": false,
       "HTML_TABLE_SCHEMA": false,
       "LOG_LEVEL": 30,
       "MAX_RENDER_SIZE_BYTES": 104857600,
       "MAX_STRING_LENGTH": 250,
       "NUM_PAST_SAMPLES_TRACKED": 3,
       "RANDOM_STATE": 12648430,
       "RESET_INDEX_VALUES": false,
       "ROW_SAMPLING_METHOD": "random",
       "SAMPLING_FACTOR": 0.1,
       "SAMPLING_METHOD": "random",
       "STRINGIFY_COLUMN_VALUES": true,
       "STRINGIFY_INDEX_VALUES": false
      },
      "sample_history": [],
      "sampling_time": "2023-08-10T06:39:06.298449",
      "user_variable_name": "data",
      "variable_name": "data"
     },
     "33983bcf-f2ad-4e93-b732-552b299731ff": {
      "applied_filters": [],
      "dataframe_info": {
       "default_index_used": true,
       "orig_num_cols": 685,
       "orig_num_rows": 163,
       "orig_size_bytes": 894544,
       "truncated_num_cols": 100,
       "truncated_num_rows": 163,
       "truncated_size_bytes": 131704,
       "truncated_string_columns": []
      },
      "display_id": "33983bcf-f2ad-4e93-b732-552b299731ff",
      "dx_settings": {
       "ALLOW_NOTEABLE_ATTRS": true,
       "COLUMN_SAMPLING_METHOD": "outer",
       "DB_LOCATION": ":memory:",
       "DEV_MODE": false,
       "DISPLAY_MAX_COLUMNS": 100,
       "DISPLAY_MAX_ROWS": 50000,
       "DISPLAY_MODE": "simple",
       "ENABLE_ASSIGNMENT": true,
       "ENABLE_DATALINK": true,
       "FLATTEN_COLUMN_VALUES": true,
       "FLATTEN_INDEX_VALUES": false,
       "GENERATE_DEX_METADATA": false,
       "HTML_TABLE_SCHEMA": false,
       "LOG_LEVEL": 30,
       "MAX_RENDER_SIZE_BYTES": 104857600,
       "MAX_STRING_LENGTH": 250,
       "NUM_PAST_SAMPLES_TRACKED": 3,
       "RANDOM_STATE": 12648430,
       "RESET_INDEX_VALUES": false,
       "ROW_SAMPLING_METHOD": "random",
       "SAMPLING_FACTOR": 0.1,
       "SAMPLING_METHOD": "random",
       "STRINGIFY_COLUMN_VALUES": true,
       "STRINGIFY_INDEX_VALUES": false
      },
      "sample_history": [],
      "sampling_time": "2023-08-10T16:00:54.483144",
      "user_variable_name": "data",
      "variable_name": "data"
     },
     "e676207d-defa-4b4b-aa3a-dc2f80faca01": {
      "applied_filters": [],
      "dataframe_info": {
       "default_index_used": true,
       "orig_num_cols": 685,
       "orig_num_rows": 163,
       "orig_size_bytes": 894544,
       "truncated_num_cols": 100,
       "truncated_num_rows": 163,
       "truncated_size_bytes": 131704,
       "truncated_string_columns": []
      },
      "display_id": "e676207d-defa-4b4b-aa3a-dc2f80faca01",
      "dx_settings": {
       "ALLOW_NOTEABLE_ATTRS": true,
       "COLUMN_SAMPLING_METHOD": "outer",
       "DB_LOCATION": ":memory:",
       "DEV_MODE": false,
       "DISPLAY_MAX_COLUMNS": 100,
       "DISPLAY_MAX_ROWS": 50000,
       "DISPLAY_MODE": "simple",
       "ENABLE_ASSIGNMENT": true,
       "ENABLE_DATALINK": true,
       "FLATTEN_COLUMN_VALUES": true,
       "FLATTEN_INDEX_VALUES": false,
       "GENERATE_DEX_METADATA": false,
       "HTML_TABLE_SCHEMA": false,
       "LOG_LEVEL": 30,
       "MAX_RENDER_SIZE_BYTES": 104857600,
       "MAX_STRING_LENGTH": 250,
       "NUM_PAST_SAMPLES_TRACKED": 3,
       "RANDOM_STATE": 12648430,
       "RESET_INDEX_VALUES": false,
       "ROW_SAMPLING_METHOD": "random",
       "SAMPLING_FACTOR": 0.1,
       "SAMPLING_METHOD": "random",
       "STRINGIFY_COLUMN_VALUES": true,
       "STRINGIFY_INDEX_VALUES": false
      },
      "sample_history": [],
      "sampling_time": "2023-08-11T14:30:02.183649",
      "user_variable_name": "data",
      "variable_name": "data"
     },
     "dfa28b23-a17b-4e7a-b4af-eb7b03df1c4c": {
      "applied_filters": [],
      "dataframe_info": {
       "default_index_used": true,
       "orig_num_cols": 685,
       "orig_num_rows": 163,
       "orig_size_bytes": 894544,
       "truncated_num_cols": 100,
       "truncated_num_rows": 163,
       "truncated_size_bytes": 131704,
       "truncated_string_columns": []
      },
      "display_id": "dfa28b23-a17b-4e7a-b4af-eb7b03df1c4c",
      "dx_settings": {
       "ALLOW_NOTEABLE_ATTRS": true,
       "COLUMN_SAMPLING_METHOD": "outer",
       "DB_LOCATION": ":memory:",
       "DEV_MODE": false,
       "DISPLAY_MAX_COLUMNS": 100,
       "DISPLAY_MAX_ROWS": 50000,
       "DISPLAY_MODE": "simple",
       "ENABLE_ASSIGNMENT": true,
       "ENABLE_DATALINK": true,
       "FLATTEN_COLUMN_VALUES": true,
       "FLATTEN_INDEX_VALUES": false,
       "GENERATE_DEX_METADATA": false,
       "HTML_TABLE_SCHEMA": false,
       "LOG_LEVEL": 30,
       "MAX_RENDER_SIZE_BYTES": 104857600,
       "MAX_STRING_LENGTH": 250,
       "NUM_PAST_SAMPLES_TRACKED": 3,
       "RANDOM_STATE": 12648430,
       "RESET_INDEX_VALUES": false,
       "ROW_SAMPLING_METHOD": "random",
       "SAMPLING_FACTOR": 0.1,
       "SAMPLING_METHOD": "random",
       "STRINGIFY_COLUMN_VALUES": true,
       "STRINGIFY_INDEX_VALUES": false
      },
      "sample_history": [],
      "sampling_time": "2023-08-12T07:33:15.488434",
      "user_variable_name": "data",
      "variable_name": "data"
     },
     "3838b7e7-651c-4db1-92e7-42dae451735f": {
      "applied_filters": [],
      "dataframe_info": {
       "default_index_used": true,
       "orig_num_cols": 685,
       "orig_num_rows": 163,
       "orig_size_bytes": 894544,
       "truncated_num_cols": 100,
       "truncated_num_rows": 163,
       "truncated_size_bytes": 131704,
       "truncated_string_columns": []
      },
      "display_id": "3838b7e7-651c-4db1-92e7-42dae451735f",
      "dx_settings": {
       "ALLOW_NOTEABLE_ATTRS": true,
       "COLUMN_SAMPLING_METHOD": "outer",
       "DB_LOCATION": ":memory:",
       "DEV_MODE": false,
       "DISPLAY_MAX_COLUMNS": 100,
       "DISPLAY_MAX_ROWS": 50000,
       "DISPLAY_MODE": "simple",
       "ENABLE_ASSIGNMENT": true,
       "ENABLE_DATALINK": true,
       "FLATTEN_COLUMN_VALUES": true,
       "FLATTEN_INDEX_VALUES": false,
       "GENERATE_DEX_METADATA": false,
       "HTML_TABLE_SCHEMA": false,
       "LOG_LEVEL": 30,
       "MAX_RENDER_SIZE_BYTES": 104857600,
       "MAX_STRING_LENGTH": 250,
       "NUM_PAST_SAMPLES_TRACKED": 3,
       "RANDOM_STATE": 12648430,
       "RESET_INDEX_VALUES": false,
       "ROW_SAMPLING_METHOD": "random",
       "SAMPLING_FACTOR": 0.1,
       "SAMPLING_METHOD": "random",
       "STRINGIFY_COLUMN_VALUES": true,
       "STRINGIFY_INDEX_VALUES": false
      },
      "sample_history": [],
      "sampling_time": "2023-08-13T11:45:31.931722",
      "user_variable_name": "data",
      "variable_name": "data"
     },
     "a1a0d6ee-2090-488e-abbb-ef53cf8b28bd": {
      "applied_filters": [],
      "dataframe_info": {
       "default_index_used": true,
       "orig_num_cols": 685,
       "orig_num_rows": 163,
       "orig_size_bytes": 894544,
       "truncated_num_cols": 100,
       "truncated_num_rows": 163,
       "truncated_size_bytes": 131704,
       "truncated_string_columns": []
      },
      "display_id": "a1a0d6ee-2090-488e-abbb-ef53cf8b28bd",
      "dx_settings": {
       "ALLOW_NOTEABLE_ATTRS": true,
       "COLUMN_SAMPLING_METHOD": "outer",
       "DB_LOCATION": ":memory:",
       "DEV_MODE": false,
       "DISPLAY_MAX_COLUMNS": 100,
       "DISPLAY_MAX_ROWS": 50000,
       "DISPLAY_MODE": "simple",
       "ENABLE_ASSIGNMENT": true,
       "ENABLE_DATALINK": true,
       "FLATTEN_COLUMN_VALUES": true,
       "FLATTEN_INDEX_VALUES": false,
       "GENERATE_DEX_METADATA": false,
       "HTML_TABLE_SCHEMA": false,
       "LOG_LEVEL": 30,
       "MAX_RENDER_SIZE_BYTES": 104857600,
       "MAX_STRING_LENGTH": 250,
       "NUM_PAST_SAMPLES_TRACKED": 3,
       "RANDOM_STATE": 12648430,
       "RESET_INDEX_VALUES": false,
       "ROW_SAMPLING_METHOD": "random",
       "SAMPLING_FACTOR": 0.1,
       "SAMPLING_METHOD": "random",
       "STRINGIFY_COLUMN_VALUES": true,
       "STRINGIFY_INDEX_VALUES": false
      },
      "sample_history": [],
      "sampling_time": "2023-08-13T16:01:22.232813",
      "user_variable_name": "data",
      "variable_name": "data"
     },
     "487a511e-b15f-45f8-a4a0-4901b657ed4f": {
      "applied_filters": [],
      "dataframe_info": {
       "default_index_used": true,
       "orig_num_cols": 685,
       "orig_num_rows": 163,
       "orig_size_bytes": 894544,
       "truncated_num_cols": 100,
       "truncated_num_rows": 163,
       "truncated_size_bytes": 131704,
       "truncated_string_columns": []
      },
      "display_id": "487a511e-b15f-45f8-a4a0-4901b657ed4f",
      "dx_settings": {
       "ALLOW_NOTEABLE_ATTRS": true,
       "COLUMN_SAMPLING_METHOD": "outer",
       "DB_LOCATION": ":memory:",
       "DEV_MODE": false,
       "DISPLAY_MAX_COLUMNS": 100,
       "DISPLAY_MAX_ROWS": 50000,
       "DISPLAY_MODE": "simple",
       "ENABLE_ASSIGNMENT": true,
       "ENABLE_DATALINK": true,
       "FLATTEN_COLUMN_VALUES": true,
       "FLATTEN_INDEX_VALUES": false,
       "GENERATE_DEX_METADATA": false,
       "HTML_TABLE_SCHEMA": false,
       "LOG_LEVEL": 30,
       "MAX_RENDER_SIZE_BYTES": 104857600,
       "MAX_STRING_LENGTH": 250,
       "NUM_PAST_SAMPLES_TRACKED": 3,
       "RANDOM_STATE": 12648430,
       "RESET_INDEX_VALUES": false,
       "ROW_SAMPLING_METHOD": "random",
       "SAMPLING_FACTOR": 0.1,
       "SAMPLING_METHOD": "random",
       "STRINGIFY_COLUMN_VALUES": true,
       "STRINGIFY_INDEX_VALUES": false
      },
      "sample_history": [],
      "sampling_time": "2023-08-26T16:42:08.715171",
      "user_variable_name": "data",
      "variable_name": "data"
     },
     "86c9d47d-6f27-4a12-a900-f87e422f5266": {
      "applied_filters": [],
      "dataframe_info": {
       "default_index_used": true,
       "orig_num_cols": 685,
       "orig_num_rows": 163,
       "orig_size_bytes": 894544,
       "truncated_num_cols": 100,
       "truncated_num_rows": 163,
       "truncated_size_bytes": 131704,
       "truncated_string_columns": []
      },
      "display_id": "86c9d47d-6f27-4a12-a900-f87e422f5266",
      "dx_settings": {
       "ALLOW_NOTEABLE_ATTRS": true,
       "COLUMN_SAMPLING_METHOD": "outer",
       "DB_LOCATION": ":memory:",
       "DEV_MODE": false,
       "DISPLAY_MAX_COLUMNS": 100,
       "DISPLAY_MAX_ROWS": 50000,
       "DISPLAY_MODE": "simple",
       "ENABLE_ASSIGNMENT": true,
       "ENABLE_DATALINK": true,
       "FLATTEN_COLUMN_VALUES": true,
       "FLATTEN_INDEX_VALUES": false,
       "GENERATE_DEX_METADATA": false,
       "HTML_TABLE_SCHEMA": false,
       "LOG_LEVEL": 30,
       "MAX_RENDER_SIZE_BYTES": 104857600,
       "MAX_STRING_LENGTH": 250,
       "NUM_PAST_SAMPLES_TRACKED": 3,
       "RANDOM_STATE": 12648430,
       "RESET_INDEX_VALUES": false,
       "ROW_SAMPLING_METHOD": "random",
       "SAMPLING_FACTOR": 0.1,
       "SAMPLING_METHOD": "random",
       "STRINGIFY_COLUMN_VALUES": true,
       "STRINGIFY_INDEX_VALUES": false
      },
      "sample_history": [],
      "sampling_time": "2023-08-26T19:20:44.588768",
      "user_variable_name": "data",
      "variable_name": "data"
     },
     "cd5394f4-5072-47d8-9778-0a9a69721387": {
      "applied_filters": [],
      "dataframe_info": {
       "default_index_used": true,
       "orig_num_cols": 685,
       "orig_num_rows": 163,
       "orig_size_bytes": 894544,
       "truncated_num_cols": 100,
       "truncated_num_rows": 163,
       "truncated_size_bytes": 131704,
       "truncated_string_columns": []
      },
      "display_id": "cd5394f4-5072-47d8-9778-0a9a69721387",
      "dx_settings": {
       "ALLOW_NOTEABLE_ATTRS": true,
       "COLUMN_SAMPLING_METHOD": "outer",
       "DB_LOCATION": ":memory:",
       "DEV_MODE": false,
       "DISPLAY_MAX_COLUMNS": 100,
       "DISPLAY_MAX_ROWS": 50000,
       "DISPLAY_MODE": "simple",
       "ENABLE_ASSIGNMENT": true,
       "ENABLE_DATALINK": true,
       "FLATTEN_COLUMN_VALUES": true,
       "FLATTEN_INDEX_VALUES": false,
       "GENERATE_DEX_METADATA": false,
       "HTML_TABLE_SCHEMA": false,
       "LOG_LEVEL": 30,
       "MAX_RENDER_SIZE_BYTES": 104857600,
       "MAX_STRING_LENGTH": 250,
       "NUM_PAST_SAMPLES_TRACKED": 3,
       "RANDOM_STATE": 12648430,
       "RESET_INDEX_VALUES": false,
       "ROW_SAMPLING_METHOD": "random",
       "SAMPLING_FACTOR": 0.1,
       "SAMPLING_METHOD": "random",
       "STRINGIFY_COLUMN_VALUES": true,
       "STRINGIFY_INDEX_VALUES": false
      },
      "sample_history": [],
      "sampling_time": "2023-08-26T19:53:22.726920",
      "user_variable_name": "data",
      "variable_name": "data"
     }
    },
    "ExecuteTime": {
     "end_time": "2023-09-08T16:33:32.156427Z",
     "start_time": "2023-09-08T16:33:31.250977Z"
    }
   },
   "execution_count": 2,
   "source": [
    "data = pd.read_excel('data_DP.xlsx')\n",
    "data.drop(axis=1, inplace=True, columns=['-logC','MaxWaveLength'])\n",
    "data"
   ],
   "outputs": [
    {
     "data": {
      "text/plain": "     Concentration    320    321    322    323    324    325    326    327  \\\n0                5  0.387  0.390  0.398  0.406  0.416  0.428  0.440  0.446   \n1               10  0.380  0.386  0.394  0.401  0.411  0.423  0.434  0.437   \n2               15  0.375  0.380  0.389  0.395  0.406  0.417  0.427  0.432   \n3               20  0.303  0.311  0.319  0.326  0.337  0.349  0.362  0.366   \n4               25  0.306  0.313  0.322  0.329  0.341  0.353  0.365  0.369   \n..             ...    ...    ...    ...    ...    ...    ...    ...    ...   \n194            220  0.237  0.240  0.248  0.255  0.266  0.278  0.296  0.302   \n195            240  0.245  0.250  0.259  0.264  0.278  0.292  0.309  0.317   \n196            260  0.262  0.266  0.275  0.283  0.296  0.311  0.328  0.334   \n197            280  0.260  0.266  0.274  0.282  0.296  0.309  0.328  0.336   \n198            300  0.274  0.279  0.288  0.297  0.309  0.324  0.343  0.350   \n\n       328  ...    994    995    996    997    998    999   1000  MaxPeakAbs  \\\n0    0.453  ...  0.183  0.182  0.181  0.179  0.178  0.177  0.176       0.849   \n1    0.444  ...  0.290  0.288  0.286  0.283  0.281  0.279  0.277       0.832   \n2    0.437  ...  0.354  0.352  0.349  0.346  0.344  0.341  0.339       0.796   \n3    0.373  ...  0.354  0.351  0.348  0.346  0.344  0.341  0.339       0.799   \n4    0.376  ...  0.363  0.360  0.357  0.354  0.352  0.350  0.347       0.825   \n..     ...  ...    ...    ...    ...    ...    ...    ...    ...         ...   \n194  0.316  ...  0.354  0.351  0.347  0.344  0.341  0.338  0.336         NaN   \n195  0.330  ...  0.341  0.338  0.334  0.331  0.328  0.325  0.323         NaN   \n196  0.348  ...  0.310  0.308  0.304  0.301  0.298  0.295  0.293         NaN   \n197  0.349  ...  0.297  0.294  0.290  0.288  0.285  0.282  0.280         NaN   \n198  0.365  ...  0.323  0.321  0.317  0.314  0.311  0.308  0.305         NaN   \n\n     time  Integral  \n0     3.0    371.98  \n1     3.0    425.36  \n2     3.0    421.06  \n3     3.0    417.11  \n4     3.0    425.77  \n..    ...       ...  \n194   NaN       NaN  \n195   NaN       NaN  \n196   NaN       NaN  \n197   NaN       NaN  \n198   NaN       NaN  \n\n[199 rows x 685 columns]",
      "text/html": "<div>\n<style scoped>\n    .dataframe tbody tr th:only-of-type {\n        vertical-align: middle;\n    }\n\n    .dataframe tbody tr th {\n        vertical-align: top;\n    }\n\n    .dataframe thead th {\n        text-align: right;\n    }\n</style>\n<table border=\"1\" class=\"dataframe\">\n  <thead>\n    <tr style=\"text-align: right;\">\n      <th></th>\n      <th>Concentration</th>\n      <th>320</th>\n      <th>321</th>\n      <th>322</th>\n      <th>323</th>\n      <th>324</th>\n      <th>325</th>\n      <th>326</th>\n      <th>327</th>\n      <th>328</th>\n      <th>...</th>\n      <th>994</th>\n      <th>995</th>\n      <th>996</th>\n      <th>997</th>\n      <th>998</th>\n      <th>999</th>\n      <th>1000</th>\n      <th>MaxPeakAbs</th>\n      <th>time</th>\n      <th>Integral</th>\n    </tr>\n  </thead>\n  <tbody>\n    <tr>\n      <th>0</th>\n      <td>5</td>\n      <td>0.387</td>\n      <td>0.390</td>\n      <td>0.398</td>\n      <td>0.406</td>\n      <td>0.416</td>\n      <td>0.428</td>\n      <td>0.440</td>\n      <td>0.446</td>\n      <td>0.453</td>\n      <td>...</td>\n      <td>0.183</td>\n      <td>0.182</td>\n      <td>0.181</td>\n      <td>0.179</td>\n      <td>0.178</td>\n      <td>0.177</td>\n      <td>0.176</td>\n      <td>0.849</td>\n      <td>3.0</td>\n      <td>371.98</td>\n    </tr>\n    <tr>\n      <th>1</th>\n      <td>10</td>\n      <td>0.380</td>\n      <td>0.386</td>\n      <td>0.394</td>\n      <td>0.401</td>\n      <td>0.411</td>\n      <td>0.423</td>\n      <td>0.434</td>\n      <td>0.437</td>\n      <td>0.444</td>\n      <td>...</td>\n      <td>0.290</td>\n      <td>0.288</td>\n      <td>0.286</td>\n      <td>0.283</td>\n      <td>0.281</td>\n      <td>0.279</td>\n      <td>0.277</td>\n      <td>0.832</td>\n      <td>3.0</td>\n      <td>425.36</td>\n    </tr>\n    <tr>\n      <th>2</th>\n      <td>15</td>\n      <td>0.375</td>\n      <td>0.380</td>\n      <td>0.389</td>\n      <td>0.395</td>\n      <td>0.406</td>\n      <td>0.417</td>\n      <td>0.427</td>\n      <td>0.432</td>\n      <td>0.437</td>\n      <td>...</td>\n      <td>0.354</td>\n      <td>0.352</td>\n      <td>0.349</td>\n      <td>0.346</td>\n      <td>0.344</td>\n      <td>0.341</td>\n      <td>0.339</td>\n      <td>0.796</td>\n      <td>3.0</td>\n      <td>421.06</td>\n    </tr>\n    <tr>\n      <th>3</th>\n      <td>20</td>\n      <td>0.303</td>\n      <td>0.311</td>\n      <td>0.319</td>\n      <td>0.326</td>\n      <td>0.337</td>\n      <td>0.349</td>\n      <td>0.362</td>\n      <td>0.366</td>\n      <td>0.373</td>\n      <td>...</td>\n      <td>0.354</td>\n      <td>0.351</td>\n      <td>0.348</td>\n      <td>0.346</td>\n      <td>0.344</td>\n      <td>0.341</td>\n      <td>0.339</td>\n      <td>0.799</td>\n      <td>3.0</td>\n      <td>417.11</td>\n    </tr>\n    <tr>\n      <th>4</th>\n      <td>25</td>\n      <td>0.306</td>\n      <td>0.313</td>\n      <td>0.322</td>\n      <td>0.329</td>\n      <td>0.341</td>\n      <td>0.353</td>\n      <td>0.365</td>\n      <td>0.369</td>\n      <td>0.376</td>\n      <td>...</td>\n      <td>0.363</td>\n      <td>0.360</td>\n      <td>0.357</td>\n      <td>0.354</td>\n      <td>0.352</td>\n      <td>0.350</td>\n      <td>0.347</td>\n      <td>0.825</td>\n      <td>3.0</td>\n      <td>425.77</td>\n    </tr>\n    <tr>\n      <th>...</th>\n      <td>...</td>\n      <td>...</td>\n      <td>...</td>\n      <td>...</td>\n      <td>...</td>\n      <td>...</td>\n      <td>...</td>\n      <td>...</td>\n      <td>...</td>\n      <td>...</td>\n      <td>...</td>\n      <td>...</td>\n      <td>...</td>\n      <td>...</td>\n      <td>...</td>\n      <td>...</td>\n      <td>...</td>\n      <td>...</td>\n      <td>...</td>\n      <td>...</td>\n      <td>...</td>\n    </tr>\n    <tr>\n      <th>194</th>\n      <td>220</td>\n      <td>0.237</td>\n      <td>0.240</td>\n      <td>0.248</td>\n      <td>0.255</td>\n      <td>0.266</td>\n      <td>0.278</td>\n      <td>0.296</td>\n      <td>0.302</td>\n      <td>0.316</td>\n      <td>...</td>\n      <td>0.354</td>\n      <td>0.351</td>\n      <td>0.347</td>\n      <td>0.344</td>\n      <td>0.341</td>\n      <td>0.338</td>\n      <td>0.336</td>\n      <td>NaN</td>\n      <td>NaN</td>\n      <td>NaN</td>\n    </tr>\n    <tr>\n      <th>195</th>\n      <td>240</td>\n      <td>0.245</td>\n      <td>0.250</td>\n      <td>0.259</td>\n      <td>0.264</td>\n      <td>0.278</td>\n      <td>0.292</td>\n      <td>0.309</td>\n      <td>0.317</td>\n      <td>0.330</td>\n      <td>...</td>\n      <td>0.341</td>\n      <td>0.338</td>\n      <td>0.334</td>\n      <td>0.331</td>\n      <td>0.328</td>\n      <td>0.325</td>\n      <td>0.323</td>\n      <td>NaN</td>\n      <td>NaN</td>\n      <td>NaN</td>\n    </tr>\n    <tr>\n      <th>196</th>\n      <td>260</td>\n      <td>0.262</td>\n      <td>0.266</td>\n      <td>0.275</td>\n      <td>0.283</td>\n      <td>0.296</td>\n      <td>0.311</td>\n      <td>0.328</td>\n      <td>0.334</td>\n      <td>0.348</td>\n      <td>...</td>\n      <td>0.310</td>\n      <td>0.308</td>\n      <td>0.304</td>\n      <td>0.301</td>\n      <td>0.298</td>\n      <td>0.295</td>\n      <td>0.293</td>\n      <td>NaN</td>\n      <td>NaN</td>\n      <td>NaN</td>\n    </tr>\n    <tr>\n      <th>197</th>\n      <td>280</td>\n      <td>0.260</td>\n      <td>0.266</td>\n      <td>0.274</td>\n      <td>0.282</td>\n      <td>0.296</td>\n      <td>0.309</td>\n      <td>0.328</td>\n      <td>0.336</td>\n      <td>0.349</td>\n      <td>...</td>\n      <td>0.297</td>\n      <td>0.294</td>\n      <td>0.290</td>\n      <td>0.288</td>\n      <td>0.285</td>\n      <td>0.282</td>\n      <td>0.280</td>\n      <td>NaN</td>\n      <td>NaN</td>\n      <td>NaN</td>\n    </tr>\n    <tr>\n      <th>198</th>\n      <td>300</td>\n      <td>0.274</td>\n      <td>0.279</td>\n      <td>0.288</td>\n      <td>0.297</td>\n      <td>0.309</td>\n      <td>0.324</td>\n      <td>0.343</td>\n      <td>0.350</td>\n      <td>0.365</td>\n      <td>...</td>\n      <td>0.323</td>\n      <td>0.321</td>\n      <td>0.317</td>\n      <td>0.314</td>\n      <td>0.311</td>\n      <td>0.308</td>\n      <td>0.305</td>\n      <td>NaN</td>\n      <td>NaN</td>\n      <td>NaN</td>\n    </tr>\n  </tbody>\n</table>\n<p>199 rows × 685 columns</p>\n</div>"
     },
     "execution_count": 2,
     "metadata": {},
     "output_type": "execute_result"
    }
   ]
  },
  {
   "id": "21874308-ea9f-4052-8936-44ec12f4803c",
   "cell_type": "code",
   "metadata": {
    "jupyter": {
     "outputs_hidden": true,
     "source_hidden": false
    },
    "noteable": {
     "cell_type": "code",
     "output_collection_id": "db457b72-c654-4ab3-85f1-3963a7184853"
    },
    "datalink": {
     "5eb3e8fb-cdd0-4a2d-bf88-10a83b206b95": {
      "applied_filters": [],
      "dataframe_info": {
       "default_index_used": true,
       "orig_num_cols": 685,
       "orig_num_rows": 163,
       "orig_size_bytes": 894544,
       "truncated_num_cols": 100,
       "truncated_num_rows": 163,
       "truncated_size_bytes": 131704,
       "truncated_string_columns": []
      },
      "display_id": "5eb3e8fb-cdd0-4a2d-bf88-10a83b206b95",
      "dx_settings": {
       "ALLOW_NOTEABLE_ATTRS": true,
       "COLUMN_SAMPLING_METHOD": "outer",
       "DB_LOCATION": ":memory:",
       "DEV_MODE": false,
       "DISPLAY_MAX_COLUMNS": 100,
       "DISPLAY_MAX_ROWS": 50000,
       "DISPLAY_MODE": "simple",
       "ENABLE_ASSIGNMENT": true,
       "ENABLE_DATALINK": true,
       "FLATTEN_COLUMN_VALUES": true,
       "FLATTEN_INDEX_VALUES": false,
       "GENERATE_DEX_METADATA": false,
       "HTML_TABLE_SCHEMA": false,
       "LOG_LEVEL": 30,
       "MAX_RENDER_SIZE_BYTES": 104857600,
       "MAX_STRING_LENGTH": 250,
       "NUM_PAST_SAMPLES_TRACKED": 3,
       "RANDOM_STATE": 12648430,
       "RESET_INDEX_VALUES": false,
       "ROW_SAMPLING_METHOD": "random",
       "SAMPLING_FACTOR": 0.1,
       "SAMPLING_METHOD": "random",
       "STRINGIFY_COLUMN_VALUES": true,
       "STRINGIFY_INDEX_VALUES": false
      },
      "sample_history": [],
      "sampling_time": "2023-08-04T07:04:25.101717",
      "user_variable_name": "data",
      "variable_name": "data"
     },
     "d5d5b75b-b4f4-462e-aa6f-a32c870f9fa1": {
      "applied_filters": [],
      "dataframe_info": {
       "default_index_used": true,
       "orig_num_cols": 685,
       "orig_num_rows": 163,
       "orig_size_bytes": 894544,
       "truncated_num_cols": 100,
       "truncated_num_rows": 163,
       "truncated_size_bytes": 131704,
       "truncated_string_columns": []
      },
      "display_id": "d5d5b75b-b4f4-462e-aa6f-a32c870f9fa1",
      "dx_settings": {
       "ALLOW_NOTEABLE_ATTRS": true,
       "COLUMN_SAMPLING_METHOD": "outer",
       "DB_LOCATION": ":memory:",
       "DEV_MODE": false,
       "DISPLAY_MAX_COLUMNS": 100,
       "DISPLAY_MAX_ROWS": 50000,
       "DISPLAY_MODE": "simple",
       "ENABLE_ASSIGNMENT": true,
       "ENABLE_DATALINK": true,
       "FLATTEN_COLUMN_VALUES": true,
       "FLATTEN_INDEX_VALUES": false,
       "GENERATE_DEX_METADATA": false,
       "HTML_TABLE_SCHEMA": false,
       "LOG_LEVEL": 30,
       "MAX_RENDER_SIZE_BYTES": 104857600,
       "MAX_STRING_LENGTH": 250,
       "NUM_PAST_SAMPLES_TRACKED": 3,
       "RANDOM_STATE": 12648430,
       "RESET_INDEX_VALUES": false,
       "ROW_SAMPLING_METHOD": "random",
       "SAMPLING_FACTOR": 0.1,
       "SAMPLING_METHOD": "random",
       "STRINGIFY_COLUMN_VALUES": true,
       "STRINGIFY_INDEX_VALUES": false
      },
      "sample_history": [],
      "sampling_time": "2023-08-05T14:00:34.648129",
      "user_variable_name": "data",
      "variable_name": "data"
     },
     "bfceed21-c3ac-4591-83ea-04f372caaa8b": {
      "applied_filters": [],
      "dataframe_info": {
       "default_index_used": true,
       "orig_num_cols": 685,
       "orig_num_rows": 163,
       "orig_size_bytes": 894544,
       "truncated_num_cols": 100,
       "truncated_num_rows": 163,
       "truncated_size_bytes": 131704,
       "truncated_string_columns": []
      },
      "display_id": "bfceed21-c3ac-4591-83ea-04f372caaa8b",
      "dx_settings": {
       "ALLOW_NOTEABLE_ATTRS": true,
       "COLUMN_SAMPLING_METHOD": "outer",
       "DB_LOCATION": ":memory:",
       "DEV_MODE": false,
       "DISPLAY_MAX_COLUMNS": 100,
       "DISPLAY_MAX_ROWS": 50000,
       "DISPLAY_MODE": "simple",
       "ENABLE_ASSIGNMENT": true,
       "ENABLE_DATALINK": true,
       "FLATTEN_COLUMN_VALUES": true,
       "FLATTEN_INDEX_VALUES": false,
       "GENERATE_DEX_METADATA": false,
       "HTML_TABLE_SCHEMA": false,
       "LOG_LEVEL": 30,
       "MAX_RENDER_SIZE_BYTES": 104857600,
       "MAX_STRING_LENGTH": 250,
       "NUM_PAST_SAMPLES_TRACKED": 3,
       "RANDOM_STATE": 12648430,
       "RESET_INDEX_VALUES": false,
       "ROW_SAMPLING_METHOD": "random",
       "SAMPLING_FACTOR": 0.1,
       "SAMPLING_METHOD": "random",
       "STRINGIFY_COLUMN_VALUES": true,
       "STRINGIFY_INDEX_VALUES": false
      },
      "sample_history": [],
      "sampling_time": "2023-08-05T15:07:35.328378",
      "user_variable_name": "data",
      "variable_name": "data"
     },
     "887556b8-f3ac-49d0-9b06-2abe91a75a3a": {
      "applied_filters": [],
      "dataframe_info": {
       "default_index_used": true,
       "orig_num_cols": 685,
       "orig_num_rows": 163,
       "orig_size_bytes": 894544,
       "truncated_num_cols": 100,
       "truncated_num_rows": 163,
       "truncated_size_bytes": 131704,
       "truncated_string_columns": []
      },
      "display_id": "887556b8-f3ac-49d0-9b06-2abe91a75a3a",
      "dx_settings": {
       "ALLOW_NOTEABLE_ATTRS": true,
       "COLUMN_SAMPLING_METHOD": "outer",
       "DB_LOCATION": ":memory:",
       "DEV_MODE": false,
       "DISPLAY_MAX_COLUMNS": 100,
       "DISPLAY_MAX_ROWS": 50000,
       "DISPLAY_MODE": "simple",
       "ENABLE_ASSIGNMENT": true,
       "ENABLE_DATALINK": true,
       "FLATTEN_COLUMN_VALUES": true,
       "FLATTEN_INDEX_VALUES": false,
       "GENERATE_DEX_METADATA": false,
       "HTML_TABLE_SCHEMA": false,
       "LOG_LEVEL": 30,
       "MAX_RENDER_SIZE_BYTES": 104857600,
       "MAX_STRING_LENGTH": 250,
       "NUM_PAST_SAMPLES_TRACKED": 3,
       "RANDOM_STATE": 12648430,
       "RESET_INDEX_VALUES": false,
       "ROW_SAMPLING_METHOD": "random",
       "SAMPLING_FACTOR": 0.1,
       "SAMPLING_METHOD": "random",
       "STRINGIFY_COLUMN_VALUES": true,
       "STRINGIFY_INDEX_VALUES": false
      },
      "sample_history": [],
      "sampling_time": "2023-08-06T06:29:52.100031",
      "user_variable_name": "data",
      "variable_name": "data"
     },
     "513b06a2-6a67-44ac-96e5-e17ea163bcd5": {
      "applied_filters": [],
      "dataframe_info": {
       "default_index_used": true,
       "orig_num_cols": 685,
       "orig_num_rows": 163,
       "orig_size_bytes": 894544,
       "truncated_num_cols": 100,
       "truncated_num_rows": 163,
       "truncated_size_bytes": 131704,
       "truncated_string_columns": []
      },
      "display_id": "513b06a2-6a67-44ac-96e5-e17ea163bcd5",
      "dx_settings": {
       "ALLOW_NOTEABLE_ATTRS": true,
       "COLUMN_SAMPLING_METHOD": "outer",
       "DB_LOCATION": ":memory:",
       "DEV_MODE": false,
       "DISPLAY_MAX_COLUMNS": 100,
       "DISPLAY_MAX_ROWS": 50000,
       "DISPLAY_MODE": "simple",
       "ENABLE_ASSIGNMENT": true,
       "ENABLE_DATALINK": true,
       "FLATTEN_COLUMN_VALUES": true,
       "FLATTEN_INDEX_VALUES": false,
       "GENERATE_DEX_METADATA": false,
       "HTML_TABLE_SCHEMA": false,
       "LOG_LEVEL": 30,
       "MAX_RENDER_SIZE_BYTES": 104857600,
       "MAX_STRING_LENGTH": 250,
       "NUM_PAST_SAMPLES_TRACKED": 3,
       "RANDOM_STATE": 12648430,
       "RESET_INDEX_VALUES": false,
       "ROW_SAMPLING_METHOD": "random",
       "SAMPLING_FACTOR": 0.1,
       "SAMPLING_METHOD": "random",
       "STRINGIFY_COLUMN_VALUES": true,
       "STRINGIFY_INDEX_VALUES": false
      },
      "sample_history": [],
      "sampling_time": "2023-08-09T19:57:42.111106",
      "user_variable_name": "data",
      "variable_name": "data"
     },
     "80e4415b-da5b-4cb9-86e2-ff1878eb6d5a": {
      "applied_filters": [],
      "dataframe_info": {
       "default_index_used": true,
       "orig_num_cols": 685,
       "orig_num_rows": 163,
       "orig_size_bytes": 894544,
       "truncated_num_cols": 100,
       "truncated_num_rows": 163,
       "truncated_size_bytes": 131704,
       "truncated_string_columns": []
      },
      "display_id": "80e4415b-da5b-4cb9-86e2-ff1878eb6d5a",
      "dx_settings": {
       "ALLOW_NOTEABLE_ATTRS": true,
       "COLUMN_SAMPLING_METHOD": "outer",
       "DB_LOCATION": ":memory:",
       "DEV_MODE": false,
       "DISPLAY_MAX_COLUMNS": 100,
       "DISPLAY_MAX_ROWS": 50000,
       "DISPLAY_MODE": "simple",
       "ENABLE_ASSIGNMENT": true,
       "ENABLE_DATALINK": true,
       "FLATTEN_COLUMN_VALUES": true,
       "FLATTEN_INDEX_VALUES": false,
       "GENERATE_DEX_METADATA": false,
       "HTML_TABLE_SCHEMA": false,
       "LOG_LEVEL": 30,
       "MAX_RENDER_SIZE_BYTES": 104857600,
       "MAX_STRING_LENGTH": 250,
       "NUM_PAST_SAMPLES_TRACKED": 3,
       "RANDOM_STATE": 12648430,
       "RESET_INDEX_VALUES": false,
       "ROW_SAMPLING_METHOD": "random",
       "SAMPLING_FACTOR": 0.1,
       "SAMPLING_METHOD": "random",
       "STRINGIFY_COLUMN_VALUES": true,
       "STRINGIFY_INDEX_VALUES": false
      },
      "sample_history": [],
      "sampling_time": "2023-08-10T06:39:08.976628",
      "user_variable_name": "data",
      "variable_name": "data"
     },
     "415b53b0-78ea-480b-9d39-87bb01cdaef8": {
      "applied_filters": [],
      "dataframe_info": {
       "default_index_used": true,
       "orig_num_cols": 685,
       "orig_num_rows": 163,
       "orig_size_bytes": 894544,
       "truncated_num_cols": 100,
       "truncated_num_rows": 163,
       "truncated_size_bytes": 131704,
       "truncated_string_columns": []
      },
      "display_id": "415b53b0-78ea-480b-9d39-87bb01cdaef8",
      "dx_settings": {
       "ALLOW_NOTEABLE_ATTRS": true,
       "COLUMN_SAMPLING_METHOD": "outer",
       "DB_LOCATION": ":memory:",
       "DEV_MODE": false,
       "DISPLAY_MAX_COLUMNS": 100,
       "DISPLAY_MAX_ROWS": 50000,
       "DISPLAY_MODE": "simple",
       "ENABLE_ASSIGNMENT": true,
       "ENABLE_DATALINK": true,
       "FLATTEN_COLUMN_VALUES": true,
       "FLATTEN_INDEX_VALUES": false,
       "GENERATE_DEX_METADATA": false,
       "HTML_TABLE_SCHEMA": false,
       "LOG_LEVEL": 30,
       "MAX_RENDER_SIZE_BYTES": 104857600,
       "MAX_STRING_LENGTH": 250,
       "NUM_PAST_SAMPLES_TRACKED": 3,
       "RANDOM_STATE": 12648430,
       "RESET_INDEX_VALUES": false,
       "ROW_SAMPLING_METHOD": "random",
       "SAMPLING_FACTOR": 0.1,
       "SAMPLING_METHOD": "random",
       "STRINGIFY_COLUMN_VALUES": true,
       "STRINGIFY_INDEX_VALUES": false
      },
      "sample_history": [],
      "sampling_time": "2023-08-10T16:00:56.982167",
      "user_variable_name": "data",
      "variable_name": "data"
     },
     "a14cca91-de35-482f-9a0a-515f9cdf3c02": {
      "applied_filters": [],
      "dataframe_info": {
       "default_index_used": true,
       "orig_num_cols": 685,
       "orig_num_rows": 163,
       "orig_size_bytes": 894544,
       "truncated_num_cols": 100,
       "truncated_num_rows": 163,
       "truncated_size_bytes": 131704,
       "truncated_string_columns": []
      },
      "display_id": "a14cca91-de35-482f-9a0a-515f9cdf3c02",
      "dx_settings": {
       "ALLOW_NOTEABLE_ATTRS": true,
       "COLUMN_SAMPLING_METHOD": "outer",
       "DB_LOCATION": ":memory:",
       "DEV_MODE": false,
       "DISPLAY_MAX_COLUMNS": 100,
       "DISPLAY_MAX_ROWS": 50000,
       "DISPLAY_MODE": "simple",
       "ENABLE_ASSIGNMENT": true,
       "ENABLE_DATALINK": true,
       "FLATTEN_COLUMN_VALUES": true,
       "FLATTEN_INDEX_VALUES": false,
       "GENERATE_DEX_METADATA": false,
       "HTML_TABLE_SCHEMA": false,
       "LOG_LEVEL": 30,
       "MAX_RENDER_SIZE_BYTES": 104857600,
       "MAX_STRING_LENGTH": 250,
       "NUM_PAST_SAMPLES_TRACKED": 3,
       "RANDOM_STATE": 12648430,
       "RESET_INDEX_VALUES": false,
       "ROW_SAMPLING_METHOD": "random",
       "SAMPLING_FACTOR": 0.1,
       "SAMPLING_METHOD": "random",
       "STRINGIFY_COLUMN_VALUES": true,
       "STRINGIFY_INDEX_VALUES": false
      },
      "sample_history": [],
      "sampling_time": "2023-08-11T14:30:04.959751",
      "user_variable_name": "data",
      "variable_name": "data"
     },
     "1a772458-2ec5-45f0-8bd9-ca766ae5ff23": {
      "applied_filters": [],
      "dataframe_info": {
       "default_index_used": true,
       "orig_num_cols": 685,
       "orig_num_rows": 163,
       "orig_size_bytes": 894544,
       "truncated_num_cols": 100,
       "truncated_num_rows": 163,
       "truncated_size_bytes": 131704,
       "truncated_string_columns": []
      },
      "display_id": "1a772458-2ec5-45f0-8bd9-ca766ae5ff23",
      "dx_settings": {
       "ALLOW_NOTEABLE_ATTRS": true,
       "COLUMN_SAMPLING_METHOD": "outer",
       "DB_LOCATION": ":memory:",
       "DEV_MODE": false,
       "DISPLAY_MAX_COLUMNS": 100,
       "DISPLAY_MAX_ROWS": 50000,
       "DISPLAY_MODE": "simple",
       "ENABLE_ASSIGNMENT": true,
       "ENABLE_DATALINK": true,
       "FLATTEN_COLUMN_VALUES": true,
       "FLATTEN_INDEX_VALUES": false,
       "GENERATE_DEX_METADATA": false,
       "HTML_TABLE_SCHEMA": false,
       "LOG_LEVEL": 30,
       "MAX_RENDER_SIZE_BYTES": 104857600,
       "MAX_STRING_LENGTH": 250,
       "NUM_PAST_SAMPLES_TRACKED": 3,
       "RANDOM_STATE": 12648430,
       "RESET_INDEX_VALUES": false,
       "ROW_SAMPLING_METHOD": "random",
       "SAMPLING_FACTOR": 0.1,
       "SAMPLING_METHOD": "random",
       "STRINGIFY_COLUMN_VALUES": true,
       "STRINGIFY_INDEX_VALUES": false
      },
      "sample_history": [],
      "sampling_time": "2023-08-12T07:33:18.009493",
      "user_variable_name": "data",
      "variable_name": "data"
     },
     "ad45f137-2cc2-4165-a0b9-039a74070c24": {
      "applied_filters": [],
      "dataframe_info": {
       "default_index_used": true,
       "orig_num_cols": 685,
       "orig_num_rows": 163,
       "orig_size_bytes": 894544,
       "truncated_num_cols": 100,
       "truncated_num_rows": 163,
       "truncated_size_bytes": 131704,
       "truncated_string_columns": []
      },
      "display_id": "ad45f137-2cc2-4165-a0b9-039a74070c24",
      "dx_settings": {
       "ALLOW_NOTEABLE_ATTRS": true,
       "COLUMN_SAMPLING_METHOD": "outer",
       "DB_LOCATION": ":memory:",
       "DEV_MODE": false,
       "DISPLAY_MAX_COLUMNS": 100,
       "DISPLAY_MAX_ROWS": 50000,
       "DISPLAY_MODE": "simple",
       "ENABLE_ASSIGNMENT": true,
       "ENABLE_DATALINK": true,
       "FLATTEN_COLUMN_VALUES": true,
       "FLATTEN_INDEX_VALUES": false,
       "GENERATE_DEX_METADATA": false,
       "HTML_TABLE_SCHEMA": false,
       "LOG_LEVEL": 30,
       "MAX_RENDER_SIZE_BYTES": 104857600,
       "MAX_STRING_LENGTH": 250,
       "NUM_PAST_SAMPLES_TRACKED": 3,
       "RANDOM_STATE": 12648430,
       "RESET_INDEX_VALUES": false,
       "ROW_SAMPLING_METHOD": "random",
       "SAMPLING_FACTOR": 0.1,
       "SAMPLING_METHOD": "random",
       "STRINGIFY_COLUMN_VALUES": true,
       "STRINGIFY_INDEX_VALUES": false
      },
      "sample_history": [],
      "sampling_time": "2023-08-13T11:45:34.390184",
      "user_variable_name": "data",
      "variable_name": "data"
     },
     "52e2e72b-9ec2-4c86-bdf4-2074152ce677": {
      "applied_filters": [],
      "dataframe_info": {
       "default_index_used": true,
       "orig_num_cols": 685,
       "orig_num_rows": 163,
       "orig_size_bytes": 894544,
       "truncated_num_cols": 100,
       "truncated_num_rows": 163,
       "truncated_size_bytes": 131704,
       "truncated_string_columns": []
      },
      "display_id": "52e2e72b-9ec2-4c86-bdf4-2074152ce677",
      "dx_settings": {
       "ALLOW_NOTEABLE_ATTRS": true,
       "COLUMN_SAMPLING_METHOD": "outer",
       "DB_LOCATION": ":memory:",
       "DEV_MODE": false,
       "DISPLAY_MAX_COLUMNS": 100,
       "DISPLAY_MAX_ROWS": 50000,
       "DISPLAY_MODE": "simple",
       "ENABLE_ASSIGNMENT": true,
       "ENABLE_DATALINK": true,
       "FLATTEN_COLUMN_VALUES": true,
       "FLATTEN_INDEX_VALUES": false,
       "GENERATE_DEX_METADATA": false,
       "HTML_TABLE_SCHEMA": false,
       "LOG_LEVEL": 30,
       "MAX_RENDER_SIZE_BYTES": 104857600,
       "MAX_STRING_LENGTH": 250,
       "NUM_PAST_SAMPLES_TRACKED": 3,
       "RANDOM_STATE": 12648430,
       "RESET_INDEX_VALUES": false,
       "ROW_SAMPLING_METHOD": "random",
       "SAMPLING_FACTOR": 0.1,
       "SAMPLING_METHOD": "random",
       "STRINGIFY_COLUMN_VALUES": true,
       "STRINGIFY_INDEX_VALUES": false
      },
      "sample_history": [],
      "sampling_time": "2023-08-13T16:01:26.066582",
      "user_variable_name": "data",
      "variable_name": "data"
     },
     "bb219299-6e69-4630-ba36-98966ca6e77f": {
      "applied_filters": [],
      "dataframe_info": {
       "default_index_used": true,
       "orig_num_cols": 685,
       "orig_num_rows": 163,
       "orig_size_bytes": 894544,
       "truncated_num_cols": 100,
       "truncated_num_rows": 163,
       "truncated_size_bytes": 131704,
       "truncated_string_columns": []
      },
      "display_id": "bb219299-6e69-4630-ba36-98966ca6e77f",
      "dx_settings": {
       "ALLOW_NOTEABLE_ATTRS": true,
       "COLUMN_SAMPLING_METHOD": "outer",
       "DB_LOCATION": ":memory:",
       "DEV_MODE": false,
       "DISPLAY_MAX_COLUMNS": 100,
       "DISPLAY_MAX_ROWS": 50000,
       "DISPLAY_MODE": "simple",
       "ENABLE_ASSIGNMENT": true,
       "ENABLE_DATALINK": true,
       "FLATTEN_COLUMN_VALUES": true,
       "FLATTEN_INDEX_VALUES": false,
       "GENERATE_DEX_METADATA": false,
       "HTML_TABLE_SCHEMA": false,
       "LOG_LEVEL": 30,
       "MAX_RENDER_SIZE_BYTES": 104857600,
       "MAX_STRING_LENGTH": 250,
       "NUM_PAST_SAMPLES_TRACKED": 3,
       "RANDOM_STATE": 12648430,
       "RESET_INDEX_VALUES": false,
       "ROW_SAMPLING_METHOD": "random",
       "SAMPLING_FACTOR": 0.1,
       "SAMPLING_METHOD": "random",
       "STRINGIFY_COLUMN_VALUES": true,
       "STRINGIFY_INDEX_VALUES": false
      },
      "sample_history": [],
      "sampling_time": "2023-08-26T16:42:11.869129",
      "user_variable_name": "data",
      "variable_name": "data"
     },
     "fdb07fdd-8a57-44e2-86f4-c7581f59c997": {
      "applied_filters": [],
      "dataframe_info": {
       "default_index_used": true,
       "orig_num_cols": 685,
       "orig_num_rows": 163,
       "orig_size_bytes": 894544,
       "truncated_num_cols": 100,
       "truncated_num_rows": 163,
       "truncated_size_bytes": 131704,
       "truncated_string_columns": []
      },
      "display_id": "fdb07fdd-8a57-44e2-86f4-c7581f59c997",
      "dx_settings": {
       "ALLOW_NOTEABLE_ATTRS": true,
       "COLUMN_SAMPLING_METHOD": "outer",
       "DB_LOCATION": ":memory:",
       "DEV_MODE": false,
       "DISPLAY_MAX_COLUMNS": 100,
       "DISPLAY_MAX_ROWS": 50000,
       "DISPLAY_MODE": "simple",
       "ENABLE_ASSIGNMENT": true,
       "ENABLE_DATALINK": true,
       "FLATTEN_COLUMN_VALUES": true,
       "FLATTEN_INDEX_VALUES": false,
       "GENERATE_DEX_METADATA": false,
       "HTML_TABLE_SCHEMA": false,
       "LOG_LEVEL": 30,
       "MAX_RENDER_SIZE_BYTES": 104857600,
       "MAX_STRING_LENGTH": 250,
       "NUM_PAST_SAMPLES_TRACKED": 3,
       "RANDOM_STATE": 12648430,
       "RESET_INDEX_VALUES": false,
       "ROW_SAMPLING_METHOD": "random",
       "SAMPLING_FACTOR": 0.1,
       "SAMPLING_METHOD": "random",
       "STRINGIFY_COLUMN_VALUES": true,
       "STRINGIFY_INDEX_VALUES": false
      },
      "sample_history": [],
      "sampling_time": "2023-08-26T19:20:47.908854",
      "user_variable_name": "data",
      "variable_name": "data"
     },
     "271a1fac-ef53-4ab2-a11a-56f6a6ed5ae2": {
      "applied_filters": [],
      "dataframe_info": {
       "default_index_used": true,
       "orig_num_cols": 685,
       "orig_num_rows": 163,
       "orig_size_bytes": 894544,
       "truncated_num_cols": 100,
       "truncated_num_rows": 163,
       "truncated_size_bytes": 131704,
       "truncated_string_columns": []
      },
      "display_id": "271a1fac-ef53-4ab2-a11a-56f6a6ed5ae2",
      "dx_settings": {
       "ALLOW_NOTEABLE_ATTRS": true,
       "COLUMN_SAMPLING_METHOD": "outer",
       "DB_LOCATION": ":memory:",
       "DEV_MODE": false,
       "DISPLAY_MAX_COLUMNS": 100,
       "DISPLAY_MAX_ROWS": 50000,
       "DISPLAY_MODE": "simple",
       "ENABLE_ASSIGNMENT": true,
       "ENABLE_DATALINK": true,
       "FLATTEN_COLUMN_VALUES": true,
       "FLATTEN_INDEX_VALUES": false,
       "GENERATE_DEX_METADATA": false,
       "HTML_TABLE_SCHEMA": false,
       "LOG_LEVEL": 30,
       "MAX_RENDER_SIZE_BYTES": 104857600,
       "MAX_STRING_LENGTH": 250,
       "NUM_PAST_SAMPLES_TRACKED": 3,
       "RANDOM_STATE": 12648430,
       "RESET_INDEX_VALUES": false,
       "ROW_SAMPLING_METHOD": "random",
       "SAMPLING_FACTOR": 0.1,
       "SAMPLING_METHOD": "random",
       "STRINGIFY_COLUMN_VALUES": true,
       "STRINGIFY_INDEX_VALUES": false
      },
      "sample_history": [],
      "sampling_time": "2023-08-26T19:53:26.018670",
      "user_variable_name": "data",
      "variable_name": "data"
     }
    },
    "ExecuteTime": {
     "end_time": "2023-09-08T16:33:32.170676Z",
     "start_time": "2023-09-08T16:33:32.159343Z"
    }
   },
   "execution_count": 3,
   "source": [
    "data['Apeak/A479'] = data['MaxPeakAbs'] / data[479]\n",
    "data.drop(axis=1, inplace=True, columns=['MaxPeakAbs'])\n",
    "data"
   ],
   "outputs": [
    {
     "data": {
      "text/plain": "     Concentration    320    321    322    323    324    325    326    327  \\\n0                5  0.387  0.390  0.398  0.406  0.416  0.428  0.440  0.446   \n1               10  0.380  0.386  0.394  0.401  0.411  0.423  0.434  0.437   \n2               15  0.375  0.380  0.389  0.395  0.406  0.417  0.427  0.432   \n3               20  0.303  0.311  0.319  0.326  0.337  0.349  0.362  0.366   \n4               25  0.306  0.313  0.322  0.329  0.341  0.353  0.365  0.369   \n..             ...    ...    ...    ...    ...    ...    ...    ...    ...   \n194            220  0.237  0.240  0.248  0.255  0.266  0.278  0.296  0.302   \n195            240  0.245  0.250  0.259  0.264  0.278  0.292  0.309  0.317   \n196            260  0.262  0.266  0.275  0.283  0.296  0.311  0.328  0.334   \n197            280  0.260  0.266  0.274  0.282  0.296  0.309  0.328  0.336   \n198            300  0.274  0.279  0.288  0.297  0.309  0.324  0.343  0.350   \n\n       328  ...    994    995    996    997    998    999   1000  time  \\\n0    0.453  ...  0.183  0.182  0.181  0.179  0.178  0.177  0.176   3.0   \n1    0.444  ...  0.290  0.288  0.286  0.283  0.281  0.279  0.277   3.0   \n2    0.437  ...  0.354  0.352  0.349  0.346  0.344  0.341  0.339   3.0   \n3    0.373  ...  0.354  0.351  0.348  0.346  0.344  0.341  0.339   3.0   \n4    0.376  ...  0.363  0.360  0.357  0.354  0.352  0.350  0.347   3.0   \n..     ...  ...    ...    ...    ...    ...    ...    ...    ...   ...   \n194  0.316  ...  0.354  0.351  0.347  0.344  0.341  0.338  0.336   NaN   \n195  0.330  ...  0.341  0.338  0.334  0.331  0.328  0.325  0.323   NaN   \n196  0.348  ...  0.310  0.308  0.304  0.301  0.298  0.295  0.293   NaN   \n197  0.349  ...  0.297  0.294  0.290  0.288  0.285  0.282  0.280   NaN   \n198  0.365  ...  0.323  0.321  0.317  0.314  0.311  0.308  0.305   NaN   \n\n     Integral  Apeak/A479  \n0      371.98    1.250368  \n1      425.36    1.410169  \n2      421.06    1.421429  \n3      417.11    1.450091  \n4      425.77    1.478495  \n..        ...         ...  \n194       NaN         NaN  \n195       NaN         NaN  \n196       NaN         NaN  \n197       NaN         NaN  \n198       NaN         NaN  \n\n[199 rows x 685 columns]",
      "text/html": "<div>\n<style scoped>\n    .dataframe tbody tr th:only-of-type {\n        vertical-align: middle;\n    }\n\n    .dataframe tbody tr th {\n        vertical-align: top;\n    }\n\n    .dataframe thead th {\n        text-align: right;\n    }\n</style>\n<table border=\"1\" class=\"dataframe\">\n  <thead>\n    <tr style=\"text-align: right;\">\n      <th></th>\n      <th>Concentration</th>\n      <th>320</th>\n      <th>321</th>\n      <th>322</th>\n      <th>323</th>\n      <th>324</th>\n      <th>325</th>\n      <th>326</th>\n      <th>327</th>\n      <th>328</th>\n      <th>...</th>\n      <th>994</th>\n      <th>995</th>\n      <th>996</th>\n      <th>997</th>\n      <th>998</th>\n      <th>999</th>\n      <th>1000</th>\n      <th>time</th>\n      <th>Integral</th>\n      <th>Apeak/A479</th>\n    </tr>\n  </thead>\n  <tbody>\n    <tr>\n      <th>0</th>\n      <td>5</td>\n      <td>0.387</td>\n      <td>0.390</td>\n      <td>0.398</td>\n      <td>0.406</td>\n      <td>0.416</td>\n      <td>0.428</td>\n      <td>0.440</td>\n      <td>0.446</td>\n      <td>0.453</td>\n      <td>...</td>\n      <td>0.183</td>\n      <td>0.182</td>\n      <td>0.181</td>\n      <td>0.179</td>\n      <td>0.178</td>\n      <td>0.177</td>\n      <td>0.176</td>\n      <td>3.0</td>\n      <td>371.98</td>\n      <td>1.250368</td>\n    </tr>\n    <tr>\n      <th>1</th>\n      <td>10</td>\n      <td>0.380</td>\n      <td>0.386</td>\n      <td>0.394</td>\n      <td>0.401</td>\n      <td>0.411</td>\n      <td>0.423</td>\n      <td>0.434</td>\n      <td>0.437</td>\n      <td>0.444</td>\n      <td>...</td>\n      <td>0.290</td>\n      <td>0.288</td>\n      <td>0.286</td>\n      <td>0.283</td>\n      <td>0.281</td>\n      <td>0.279</td>\n      <td>0.277</td>\n      <td>3.0</td>\n      <td>425.36</td>\n      <td>1.410169</td>\n    </tr>\n    <tr>\n      <th>2</th>\n      <td>15</td>\n      <td>0.375</td>\n      <td>0.380</td>\n      <td>0.389</td>\n      <td>0.395</td>\n      <td>0.406</td>\n      <td>0.417</td>\n      <td>0.427</td>\n      <td>0.432</td>\n      <td>0.437</td>\n      <td>...</td>\n      <td>0.354</td>\n      <td>0.352</td>\n      <td>0.349</td>\n      <td>0.346</td>\n      <td>0.344</td>\n      <td>0.341</td>\n      <td>0.339</td>\n      <td>3.0</td>\n      <td>421.06</td>\n      <td>1.421429</td>\n    </tr>\n    <tr>\n      <th>3</th>\n      <td>20</td>\n      <td>0.303</td>\n      <td>0.311</td>\n      <td>0.319</td>\n      <td>0.326</td>\n      <td>0.337</td>\n      <td>0.349</td>\n      <td>0.362</td>\n      <td>0.366</td>\n      <td>0.373</td>\n      <td>...</td>\n      <td>0.354</td>\n      <td>0.351</td>\n      <td>0.348</td>\n      <td>0.346</td>\n      <td>0.344</td>\n      <td>0.341</td>\n      <td>0.339</td>\n      <td>3.0</td>\n      <td>417.11</td>\n      <td>1.450091</td>\n    </tr>\n    <tr>\n      <th>4</th>\n      <td>25</td>\n      <td>0.306</td>\n      <td>0.313</td>\n      <td>0.322</td>\n      <td>0.329</td>\n      <td>0.341</td>\n      <td>0.353</td>\n      <td>0.365</td>\n      <td>0.369</td>\n      <td>0.376</td>\n      <td>...</td>\n      <td>0.363</td>\n      <td>0.360</td>\n      <td>0.357</td>\n      <td>0.354</td>\n      <td>0.352</td>\n      <td>0.350</td>\n      <td>0.347</td>\n      <td>3.0</td>\n      <td>425.77</td>\n      <td>1.478495</td>\n    </tr>\n    <tr>\n      <th>...</th>\n      <td>...</td>\n      <td>...</td>\n      <td>...</td>\n      <td>...</td>\n      <td>...</td>\n      <td>...</td>\n      <td>...</td>\n      <td>...</td>\n      <td>...</td>\n      <td>...</td>\n      <td>...</td>\n      <td>...</td>\n      <td>...</td>\n      <td>...</td>\n      <td>...</td>\n      <td>...</td>\n      <td>...</td>\n      <td>...</td>\n      <td>...</td>\n      <td>...</td>\n      <td>...</td>\n    </tr>\n    <tr>\n      <th>194</th>\n      <td>220</td>\n      <td>0.237</td>\n      <td>0.240</td>\n      <td>0.248</td>\n      <td>0.255</td>\n      <td>0.266</td>\n      <td>0.278</td>\n      <td>0.296</td>\n      <td>0.302</td>\n      <td>0.316</td>\n      <td>...</td>\n      <td>0.354</td>\n      <td>0.351</td>\n      <td>0.347</td>\n      <td>0.344</td>\n      <td>0.341</td>\n      <td>0.338</td>\n      <td>0.336</td>\n      <td>NaN</td>\n      <td>NaN</td>\n      <td>NaN</td>\n    </tr>\n    <tr>\n      <th>195</th>\n      <td>240</td>\n      <td>0.245</td>\n      <td>0.250</td>\n      <td>0.259</td>\n      <td>0.264</td>\n      <td>0.278</td>\n      <td>0.292</td>\n      <td>0.309</td>\n      <td>0.317</td>\n      <td>0.330</td>\n      <td>...</td>\n      <td>0.341</td>\n      <td>0.338</td>\n      <td>0.334</td>\n      <td>0.331</td>\n      <td>0.328</td>\n      <td>0.325</td>\n      <td>0.323</td>\n      <td>NaN</td>\n      <td>NaN</td>\n      <td>NaN</td>\n    </tr>\n    <tr>\n      <th>196</th>\n      <td>260</td>\n      <td>0.262</td>\n      <td>0.266</td>\n      <td>0.275</td>\n      <td>0.283</td>\n      <td>0.296</td>\n      <td>0.311</td>\n      <td>0.328</td>\n      <td>0.334</td>\n      <td>0.348</td>\n      <td>...</td>\n      <td>0.310</td>\n      <td>0.308</td>\n      <td>0.304</td>\n      <td>0.301</td>\n      <td>0.298</td>\n      <td>0.295</td>\n      <td>0.293</td>\n      <td>NaN</td>\n      <td>NaN</td>\n      <td>NaN</td>\n    </tr>\n    <tr>\n      <th>197</th>\n      <td>280</td>\n      <td>0.260</td>\n      <td>0.266</td>\n      <td>0.274</td>\n      <td>0.282</td>\n      <td>0.296</td>\n      <td>0.309</td>\n      <td>0.328</td>\n      <td>0.336</td>\n      <td>0.349</td>\n      <td>...</td>\n      <td>0.297</td>\n      <td>0.294</td>\n      <td>0.290</td>\n      <td>0.288</td>\n      <td>0.285</td>\n      <td>0.282</td>\n      <td>0.280</td>\n      <td>NaN</td>\n      <td>NaN</td>\n      <td>NaN</td>\n    </tr>\n    <tr>\n      <th>198</th>\n      <td>300</td>\n      <td>0.274</td>\n      <td>0.279</td>\n      <td>0.288</td>\n      <td>0.297</td>\n      <td>0.309</td>\n      <td>0.324</td>\n      <td>0.343</td>\n      <td>0.350</td>\n      <td>0.365</td>\n      <td>...</td>\n      <td>0.323</td>\n      <td>0.321</td>\n      <td>0.317</td>\n      <td>0.314</td>\n      <td>0.311</td>\n      <td>0.308</td>\n      <td>0.305</td>\n      <td>NaN</td>\n      <td>NaN</td>\n      <td>NaN</td>\n    </tr>\n  </tbody>\n</table>\n<p>199 rows × 685 columns</p>\n</div>"
     },
     "execution_count": 3,
     "metadata": {},
     "output_type": "execute_result"
    }
   ]
  },
  {
   "id": "d486db68-fb97-4cb9-a30b-afab9fa8600b",
   "cell_type": "code",
   "metadata": {
    "jupyter": {
     "outputs_hidden": false,
     "source_hidden": false
    },
    "noteable": {
     "cell_type": "code",
     "output_collection_id": "ff8ba1c4-c7e7-49df-b4ae-4425ceae3724"
    },
    "ExecuteTime": {
     "end_time": "2023-09-08T16:33:35.001378Z",
     "start_time": "2023-09-08T16:33:34.986783Z"
    }
   },
   "execution_count": 4,
   "source": [
    "\n",
    "X = data.iloc[:,1:-3]\n",
    "X.columns = X.columns.astype(str)\n",
    "# X = np.array(X)\n",
    "y = data.iloc[:,0]\n",
    "X"
   ],
   "outputs": [
    {
     "data": {
      "text/plain": "       320    321    322    323    324    325    326    327    328    329  \\\n0    0.387  0.390  0.398  0.406  0.416  0.428  0.440  0.446  0.453  0.457   \n1    0.380  0.386  0.394  0.401  0.411  0.423  0.434  0.437  0.444  0.446   \n2    0.375  0.380  0.389  0.395  0.406  0.417  0.427  0.432  0.437  0.438   \n3    0.303  0.311  0.319  0.326  0.337  0.349  0.362  0.366  0.373  0.377   \n4    0.306  0.313  0.322  0.329  0.341  0.353  0.365  0.369  0.376  0.379   \n..     ...    ...    ...    ...    ...    ...    ...    ...    ...    ...   \n194  0.237  0.240  0.248  0.255  0.266  0.278  0.296  0.302  0.316  0.325   \n195  0.245  0.250  0.259  0.264  0.278  0.292  0.309  0.317  0.330  0.340   \n196  0.262  0.266  0.275  0.283  0.296  0.311  0.328  0.334  0.348  0.358   \n197  0.260  0.266  0.274  0.282  0.296  0.309  0.328  0.336  0.349  0.359   \n198  0.274  0.279  0.288  0.297  0.309  0.324  0.343  0.350  0.365  0.374   \n\n     ...    991    992    993    994    995    996    997    998    999   1000  \n0    ...  0.188  0.186  0.185  0.183  0.182  0.181  0.179  0.178  0.177  0.176  \n1    ...  0.298  0.295  0.293  0.290  0.288  0.286  0.283  0.281  0.279  0.277  \n2    ...  0.362  0.359  0.357  0.354  0.352  0.349  0.346  0.344  0.341  0.339  \n3    ...  0.362  0.359  0.357  0.354  0.351  0.348  0.346  0.344  0.341  0.339  \n4    ...  0.371  0.368  0.366  0.363  0.360  0.357  0.354  0.352  0.350  0.347  \n..   ...    ...    ...    ...    ...    ...    ...    ...    ...    ...    ...  \n194  ...  0.363  0.360  0.357  0.354  0.351  0.347  0.344  0.341  0.338  0.336  \n195  ...  0.351  0.348  0.345  0.341  0.338  0.334  0.331  0.328  0.325  0.323  \n196  ...  0.320  0.316  0.314  0.310  0.308  0.304  0.301  0.298  0.295  0.293  \n197  ...  0.307  0.303  0.300  0.297  0.294  0.290  0.288  0.285  0.282  0.280  \n198  ...  0.334  0.330  0.327  0.323  0.321  0.317  0.314  0.311  0.308  0.305  \n\n[199 rows x 681 columns]",
      "text/html": "<div>\n<style scoped>\n    .dataframe tbody tr th:only-of-type {\n        vertical-align: middle;\n    }\n\n    .dataframe tbody tr th {\n        vertical-align: top;\n    }\n\n    .dataframe thead th {\n        text-align: right;\n    }\n</style>\n<table border=\"1\" class=\"dataframe\">\n  <thead>\n    <tr style=\"text-align: right;\">\n      <th></th>\n      <th>320</th>\n      <th>321</th>\n      <th>322</th>\n      <th>323</th>\n      <th>324</th>\n      <th>325</th>\n      <th>326</th>\n      <th>327</th>\n      <th>328</th>\n      <th>329</th>\n      <th>...</th>\n      <th>991</th>\n      <th>992</th>\n      <th>993</th>\n      <th>994</th>\n      <th>995</th>\n      <th>996</th>\n      <th>997</th>\n      <th>998</th>\n      <th>999</th>\n      <th>1000</th>\n    </tr>\n  </thead>\n  <tbody>\n    <tr>\n      <th>0</th>\n      <td>0.387</td>\n      <td>0.390</td>\n      <td>0.398</td>\n      <td>0.406</td>\n      <td>0.416</td>\n      <td>0.428</td>\n      <td>0.440</td>\n      <td>0.446</td>\n      <td>0.453</td>\n      <td>0.457</td>\n      <td>...</td>\n      <td>0.188</td>\n      <td>0.186</td>\n      <td>0.185</td>\n      <td>0.183</td>\n      <td>0.182</td>\n      <td>0.181</td>\n      <td>0.179</td>\n      <td>0.178</td>\n      <td>0.177</td>\n      <td>0.176</td>\n    </tr>\n    <tr>\n      <th>1</th>\n      <td>0.380</td>\n      <td>0.386</td>\n      <td>0.394</td>\n      <td>0.401</td>\n      <td>0.411</td>\n      <td>0.423</td>\n      <td>0.434</td>\n      <td>0.437</td>\n      <td>0.444</td>\n      <td>0.446</td>\n      <td>...</td>\n      <td>0.298</td>\n      <td>0.295</td>\n      <td>0.293</td>\n      <td>0.290</td>\n      <td>0.288</td>\n      <td>0.286</td>\n      <td>0.283</td>\n      <td>0.281</td>\n      <td>0.279</td>\n      <td>0.277</td>\n    </tr>\n    <tr>\n      <th>2</th>\n      <td>0.375</td>\n      <td>0.380</td>\n      <td>0.389</td>\n      <td>0.395</td>\n      <td>0.406</td>\n      <td>0.417</td>\n      <td>0.427</td>\n      <td>0.432</td>\n      <td>0.437</td>\n      <td>0.438</td>\n      <td>...</td>\n      <td>0.362</td>\n      <td>0.359</td>\n      <td>0.357</td>\n      <td>0.354</td>\n      <td>0.352</td>\n      <td>0.349</td>\n      <td>0.346</td>\n      <td>0.344</td>\n      <td>0.341</td>\n      <td>0.339</td>\n    </tr>\n    <tr>\n      <th>3</th>\n      <td>0.303</td>\n      <td>0.311</td>\n      <td>0.319</td>\n      <td>0.326</td>\n      <td>0.337</td>\n      <td>0.349</td>\n      <td>0.362</td>\n      <td>0.366</td>\n      <td>0.373</td>\n      <td>0.377</td>\n      <td>...</td>\n      <td>0.362</td>\n      <td>0.359</td>\n      <td>0.357</td>\n      <td>0.354</td>\n      <td>0.351</td>\n      <td>0.348</td>\n      <td>0.346</td>\n      <td>0.344</td>\n      <td>0.341</td>\n      <td>0.339</td>\n    </tr>\n    <tr>\n      <th>4</th>\n      <td>0.306</td>\n      <td>0.313</td>\n      <td>0.322</td>\n      <td>0.329</td>\n      <td>0.341</td>\n      <td>0.353</td>\n      <td>0.365</td>\n      <td>0.369</td>\n      <td>0.376</td>\n      <td>0.379</td>\n      <td>...</td>\n      <td>0.371</td>\n      <td>0.368</td>\n      <td>0.366</td>\n      <td>0.363</td>\n      <td>0.360</td>\n      <td>0.357</td>\n      <td>0.354</td>\n      <td>0.352</td>\n      <td>0.350</td>\n      <td>0.347</td>\n    </tr>\n    <tr>\n      <th>...</th>\n      <td>...</td>\n      <td>...</td>\n      <td>...</td>\n      <td>...</td>\n      <td>...</td>\n      <td>...</td>\n      <td>...</td>\n      <td>...</td>\n      <td>...</td>\n      <td>...</td>\n      <td>...</td>\n      <td>...</td>\n      <td>...</td>\n      <td>...</td>\n      <td>...</td>\n      <td>...</td>\n      <td>...</td>\n      <td>...</td>\n      <td>...</td>\n      <td>...</td>\n      <td>...</td>\n    </tr>\n    <tr>\n      <th>194</th>\n      <td>0.237</td>\n      <td>0.240</td>\n      <td>0.248</td>\n      <td>0.255</td>\n      <td>0.266</td>\n      <td>0.278</td>\n      <td>0.296</td>\n      <td>0.302</td>\n      <td>0.316</td>\n      <td>0.325</td>\n      <td>...</td>\n      <td>0.363</td>\n      <td>0.360</td>\n      <td>0.357</td>\n      <td>0.354</td>\n      <td>0.351</td>\n      <td>0.347</td>\n      <td>0.344</td>\n      <td>0.341</td>\n      <td>0.338</td>\n      <td>0.336</td>\n    </tr>\n    <tr>\n      <th>195</th>\n      <td>0.245</td>\n      <td>0.250</td>\n      <td>0.259</td>\n      <td>0.264</td>\n      <td>0.278</td>\n      <td>0.292</td>\n      <td>0.309</td>\n      <td>0.317</td>\n      <td>0.330</td>\n      <td>0.340</td>\n      <td>...</td>\n      <td>0.351</td>\n      <td>0.348</td>\n      <td>0.345</td>\n      <td>0.341</td>\n      <td>0.338</td>\n      <td>0.334</td>\n      <td>0.331</td>\n      <td>0.328</td>\n      <td>0.325</td>\n      <td>0.323</td>\n    </tr>\n    <tr>\n      <th>196</th>\n      <td>0.262</td>\n      <td>0.266</td>\n      <td>0.275</td>\n      <td>0.283</td>\n      <td>0.296</td>\n      <td>0.311</td>\n      <td>0.328</td>\n      <td>0.334</td>\n      <td>0.348</td>\n      <td>0.358</td>\n      <td>...</td>\n      <td>0.320</td>\n      <td>0.316</td>\n      <td>0.314</td>\n      <td>0.310</td>\n      <td>0.308</td>\n      <td>0.304</td>\n      <td>0.301</td>\n      <td>0.298</td>\n      <td>0.295</td>\n      <td>0.293</td>\n    </tr>\n    <tr>\n      <th>197</th>\n      <td>0.260</td>\n      <td>0.266</td>\n      <td>0.274</td>\n      <td>0.282</td>\n      <td>0.296</td>\n      <td>0.309</td>\n      <td>0.328</td>\n      <td>0.336</td>\n      <td>0.349</td>\n      <td>0.359</td>\n      <td>...</td>\n      <td>0.307</td>\n      <td>0.303</td>\n      <td>0.300</td>\n      <td>0.297</td>\n      <td>0.294</td>\n      <td>0.290</td>\n      <td>0.288</td>\n      <td>0.285</td>\n      <td>0.282</td>\n      <td>0.280</td>\n    </tr>\n    <tr>\n      <th>198</th>\n      <td>0.274</td>\n      <td>0.279</td>\n      <td>0.288</td>\n      <td>0.297</td>\n      <td>0.309</td>\n      <td>0.324</td>\n      <td>0.343</td>\n      <td>0.350</td>\n      <td>0.365</td>\n      <td>0.374</td>\n      <td>...</td>\n      <td>0.334</td>\n      <td>0.330</td>\n      <td>0.327</td>\n      <td>0.323</td>\n      <td>0.321</td>\n      <td>0.317</td>\n      <td>0.314</td>\n      <td>0.311</td>\n      <td>0.308</td>\n      <td>0.305</td>\n    </tr>\n  </tbody>\n</table>\n<p>199 rows × 681 columns</p>\n</div>"
     },
     "execution_count": 4,
     "metadata": {},
     "output_type": "execute_result"
    }
   ]
  },
  {
   "id": "774b8e0d-d4cc-47a4-89fb-abb8da235544",
   "cell_type": "code",
   "metadata": {
    "jupyter": {
     "outputs_hidden": false,
     "source_hidden": false
    },
    "noteable": {
     "cell_type": "code",
     "output_collection_id": "511b8023-ac22-4bcd-8554-b2d026c09374"
    },
    "ExecuteTime": {
     "end_time": "2023-08-06T09:46:17.167036+00:00",
     "start_time": "2023-08-06T09:46:17.006155+00:00"
    }
   },
   "execution_count": null,
   "source": [
    "from sklearn.ensemble import RandomForestRegressor\n",
    "from sklearn.ensemble import ExtraTreesRegressor\n",
    "from sklearn.linear_model import Perceptron\n",
    "from sklearn.ensemble import GradientBoostingRegressor\n",
    "from sklearn.pipeline import Pipeline\n",
    "from sklearn.feature_selection import SelectFromModel, RFE, SelectKBest,mutual_info_regression, f_regression\n",
    "from sklearn.svm import SVR\n",
    "from sklearn.linear_model import LassoLarsCV\n",
    "from sklearn.model_selection import cross_val_score, RepeatedStratifiedKFold\n",
    "from sklearn.preprocessing import StandardScaler, MinMaxScaler\n",
    "def get_mode():\n",
    "     models = dict()\n",
    "     rfe = RFE(estimator=ExtraTreesRegressor(), n_features_to_select=250)\n",
    "     slk = StandardScaler()\n",
    "     model = LassoLarsCV(cv=30)\n",
    "     models['ETR_LASOO'] = Pipeline([\n",
    "          ('m',rfe ),('s',slk),('model',model)\n",
    "     ])\n",
    "     rfe = RFE(estimator=RandomForestRegressor(), n_features_to_select=200)\n",
    "     slk = MinMaxScaler()\n",
    "     model = LassoLarsCV(cv=30)\n",
    "     models['RFG_LASSO']=Pipeline([\n",
    "          ('m',rfe ),('s',slk),('model',model)\n",
    "     ])\n",
    "     return models"
   ],
   "outputs": []
  },
  {
   "id": "e8711f2a-b4e8-4a87-b2af-2999a2a97995",
   "cell_type": "code",
   "metadata": {
    "jupyter": {
     "outputs_hidden": false,
     "source_hidden": false
    },
    "noteable": {
     "cell_type": "code",
     "output_collection_id": "dd723761-99cb-40ef-8c09-3e47f7ec7104"
    },
    "ExecuteTime": {
     "end_time": "2023-08-06T06:32:54.547730+00:00",
     "start_time": "2023-08-06T06:32:54.390213+00:00"
    }
   },
   "execution_count": null,
   "source": [
    "def evaluate_model(model, X, y):\n",
    "     print('in eval')\n",
    "     t = time.time()\n",
    "     cv = RepeatedStratifiedKFold(n_splits=3,n_repeats=3, random_state=1)\n",
    "     scores = cross_val_score(model, X, y,scoring='r2',cv=cv, n_jobs=-1)\n",
    "     print(\"process executed in %s seconds\" % (str(time.time() - t)))\n",
    "     return scores\n"
   ],
   "outputs": []
  },
  {
   "id": "7faf7a83-8e8c-4f62-8627-6f1f0a23a165",
   "cell_type": "code",
   "metadata": {
    "jupyter": {
     "outputs_hidden": false,
     "source_hidden": false
    },
    "noteable": {
     "cell_type": "code",
     "output_collection_id": "6ea36afa-2714-47a7-a318-3853a0f6a151"
    },
    "ExecuteTime": {
     "end_time": "2023-08-06T09:19:34.331732+00:00",
     "start_time": "2023-08-06T06:32:56.205927+00:00"
    }
   },
   "execution_count": null,
   "source": [
    "results, names = [], []\n",
    "models = get_mode()\n",
    "for name, model in models.items():\n",
    "     scores = evaluate_model(model,X, y)\n",
    "     results.append(scores)\n",
    "     names.append(name)\n",
    "     print('>%s %.3f (%.3f)' % (name, np.mean(scores), np.std(scores)))\n",
    "plt.boxplot(results, labels=names, showmeans=True)\n",
    "plt.show()"
   ],
   "outputs": []
  },
  {
   "id": "2273a84a-5d01-42c9-ab76-b5375a304940",
   "cell_type": "code",
   "metadata": {
    "jupyter": {
     "outputs_hidden": false,
     "source_hidden": false
    },
    "noteable": {
     "cell_type": "code",
     "output_collection_id": "1b8399a7-e799-450e-8e36-99ba64111527"
    },
    "ExecuteTime": {
     "end_time": "2023-08-06T09:47:39.636082+00:00",
     "start_time": "2023-08-06T09:47:39.477391+00:00"
    }
   },
   "execution_count": null,
   "source": [
    "def get_mode():\n",
    "     models = dict()\n",
    "     rfe = SelectKBest(mutual_info_regression,k='all')\n",
    "     slk = StandardScaler()\n",
    "     model = LassoLarsCV(cv=30)\n",
    "     models['ETR_LASOO'] = Pipeline([\n",
    "          ('m',rfe ),('s',slk),('model',model)\n",
    "     ])\n",
    "     rfe = SelectKBest(f_regression,k='all')\n",
    "     slk = MinMaxScaler()\n",
    "     model = LassoLarsCV(cv=30)\n",
    "     models['RFG_LASSO']=Pipeline([\n",
    "          ('m',rfe ),('s',slk),('model',model)\n",
    "     ])\n",
    "     return models"
   ],
   "outputs": []
  },
  {
   "id": "c01ebda8-b13b-4beb-b00d-70f97b20bc30",
   "cell_type": "code",
   "metadata": {
    "jupyter": {
     "outputs_hidden": false,
     "source_hidden": false
    },
    "noteable": {
     "cell_type": "code",
     "output_collection_id": "e3990082-8337-48c0-a4df-fae7971d03f8"
    },
    "ExecuteTime": {
     "end_time": "2023-08-06T10:39:48.923449+00:00",
     "start_time": "2023-08-06T09:47:41.320057+00:00"
    }
   },
   "execution_count": null,
   "source": [
    "results, names = [], []\n",
    "models = get_mode()\n",
    "for name, model in models.items():\n",
    "     scores = evaluate_model(model,X, y)\n",
    "     results.append(scores)\n",
    "     names.append(name)\n",
    "     print('>%s %.3f (%.3f)' % (name, np.mean(scores), np.std(scores)))\n",
    "plt.boxplot(results, labels=names, showmeans=True)\n",
    "plt.show()"
   ],
   "outputs": []
  },
  {
   "id": "6d1b5fba-6023-4214-9838-f961989c9738",
   "cell_type": "code",
   "metadata": {
    "jupyter": {
     "outputs_hidden": false,
     "source_hidden": false
    },
    "noteable": {
     "cell_type": "code",
     "output_collection_id": "f4ec7183-e112-4761-884e-46c290153e48"
    },
    "ExecuteTime": {
     "end_time": "2023-08-06T10:40:57.670239+00:00",
     "start_time": "2023-08-06T10:40:57.513047+00:00"
    }
   },
   "execution_count": null,
   "source": [
    "print(scores)"
   ],
   "outputs": []
  },
  {
   "id": "05c55e33-3c39-4cc7-8c14-ea9962192fd3",
   "cell_type": "code",
   "metadata": {
    "jupyter": {
     "outputs_hidden": false,
     "source_hidden": false
    },
    "noteable": {
     "cell_type": "code",
     "output_collection_id": "5b043b15-b2db-4423-9dab-62ebd0f9cb28"
    },
    "ExecuteTime": {
     "end_time": "2023-08-10T16:01:21.984261+00:00",
     "start_time": "2023-08-10T16:01:21.651685+00:00"
    }
   },
   "execution_count": null,
   "source": [
    "from sklearn.ensemble import RandomForestRegressor\n",
    "from sklearn.ensemble import ExtraTreesRegressor\n",
    "from sklearn.linear_model import Perceptron\n",
    "from sklearn.ensemble import GradientBoostingRegressor\n",
    "from sklearn.pipeline import Pipeline\n",
    "from sklearn.feature_selection import SelectFromModel, RFE, SelectKBest,mutual_info_regression, f_regression, chi2\n",
    "from sklearn.svm import SVR\n",
    "from sklearn.linear_model import LassoLarsCV\n",
    "from sklearn.model_selection import cross_val_score, RepeatedStratifiedKFold\n",
    "from sklearn.preprocessing import StandardScaler, MinMaxScaler\n",
    "\n",
    "def get_mode():\n",
    "     models = dict()\n",
    "     rfe = RFE(estimator=ExtraTreesRegressor(), n_features_to_select=250)\n",
    "     slk = StandardScaler()\n",
    "     model = LassoLarsCV(cv=5)\n",
    "     models['ETR_LASOO_1'] = Pipeline([\n",
    "          ('m',rfe ),('s',slk),('model',model)\n",
    "     ])\n",
    "     rfe = RFE(estimator=RandomForestRegressor(), n_features_to_select=200)\n",
    "     slk = MinMaxScaler()\n",
    "     model = LassoLarsCV(cv=5)\n",
    "     models['RFG_LASSO_1']=Pipeline([\n",
    "          ('m',rfe ),('s',slk),('model',model)\n",
    "     ])\n",
    "     rfe = SelectKBest(chi2,k='all')\n",
    "     slk = StandardScaler()\n",
    "     model = LassoLarsCV(cv=5)\n",
    "     models['ETR_LASOO_2'] = Pipeline([\n",
    "          ('m',rfe ),('s',slk),('model',model)\n",
    "     ])\n",
    "     rfe = SelectKBest(f_regression,k='all')\n",
    "     slk = MinMaxScaler()\n",
    "     model = LassoLarsCV(cv=5)\n",
    "     models['RFG_LASSO_2']=Pipeline([\n",
    "          ('m',rfe ),('s',slk),('model',model)\n",
    "     ])\n",
    "     return models"
   ],
   "outputs": []
  },
  {
   "id": "d2989f25-8271-4de8-9e5c-88ac9b18ac4f",
   "cell_type": "code",
   "metadata": {
    "jupyter": {
     "outputs_hidden": false,
     "source_hidden": false
    },
    "noteable": {
     "cell_type": "code",
     "output_collection_id": "7cdc2bea-0bc6-4cb1-8eac-e03fdcc70a77"
    },
    "ExecuteTime": {
     "end_time": "2023-08-10T16:01:23.988235+00:00",
     "start_time": "2023-08-10T16:01:23.829282+00:00"
    }
   },
   "execution_count": null,
   "source": [
    "def evaluate_model(model, X, y):\n",
    "     print('in eval')\n",
    "     t = time.time()\n",
    "     cv = RepeatedStratifiedKFold(n_splits=5,n_repeats=3, random_state=1)\n",
    "     scores = cross_val_score(model, X, y,scoring='neg_mean_squared_error',cv=cv, n_jobs=-1)\n",
    "     print(\"process executed in %s seconds\" % (str(time.time() - t)))\n",
    "     return scores\n"
   ],
   "outputs": []
  },
  {
   "id": "ac405eec-5b86-4b58-a4c5-e4a00efe633a",
   "cell_type": "code",
   "metadata": {
    "jupyter": {
     "outputs_hidden": false,
     "source_hidden": false
    },
    "noteable": {
     "cell_type": "code",
     "output_collection_id": "892ff464-d8bb-44f1-851c-12ea64b6f000"
    },
    "ExecuteTime": {
     "end_time": "2023-08-10T16:01:28.743300+00:00",
     "start_time": "2023-08-10T16:01:28.570295+00:00"
    }
   },
   "execution_count": null,
   "source": [
    "print(get_mode())"
   ],
   "outputs": []
  },
  {
   "id": "41b95439-dea8-4d81-896a-92e18d638b2c",
   "cell_type": "code",
   "metadata": {
    "jupyter": {
     "outputs_hidden": false,
     "source_hidden": false
    },
    "noteable": {
     "cell_type": "code",
     "output_collection_id": "4c5148b8-decb-4ae6-9044-bebb54de3903"
    },
    "ExecuteTime": {
     "end_time": "2023-08-10T21:26:58.050081+00:00",
     "start_time": "2023-08-10T16:01:34.309685+00:00"
    }
   },
   "execution_count": null,
   "source": [
    "results, names = [], []\n",
    "models = get_mode()\n",
    "for name, model in models.items():\n",
    "     scores = evaluate_model(model,X, y)\n",
    "     results.append(scores)\n",
    "     names.append(name)\n",
    "     print('>%s %.3f (%.3f)' % (name, np.mean(scores), np.std(scores)))\n",
    "plt.boxplot(results, labels=names, showmeans=True)\n",
    "plt.show()"
   ],
   "outputs": []
  },
  {
   "id": "7749c819-d3e5-411b-99a0-5bbaaac4a334",
   "cell_type": "code",
   "metadata": {
    "jupyter": {
     "outputs_hidden": true,
     "source_hidden": false
    },
    "noteable": {
     "cell_type": "code",
     "output_collection_id": "2dadf190-81e6-4f37-b85e-a8a04813f2d4"
    },
    "datalink": {
     "d7621c5a-3215-4af6-a2b7-41a0c7da1a48": {
      "applied_filters": [],
      "dataframe_info": {
       "default_index_used": true,
       "orig_num_cols": 1,
       "orig_num_rows": 163,
       "orig_size_bytes": 2608,
       "truncated_num_cols": 1,
       "truncated_num_rows": 163,
       "truncated_size_bytes": 2608,
       "truncated_string_columns": []
      },
      "display_id": "d7621c5a-3215-4af6-a2b7-41a0c7da1a48",
      "dx_settings": {
       "ALLOW_NOTEABLE_ATTRS": true,
       "COLUMN_SAMPLING_METHOD": "outer",
       "DB_LOCATION": ":memory:",
       "DEV_MODE": false,
       "DISPLAY_MAX_COLUMNS": 100,
       "DISPLAY_MAX_ROWS": 50000,
       "DISPLAY_MODE": "simple",
       "ENABLE_ASSIGNMENT": true,
       "ENABLE_DATALINK": true,
       "FLATTEN_COLUMN_VALUES": true,
       "FLATTEN_INDEX_VALUES": false,
       "GENERATE_DEX_METADATA": false,
       "HTML_TABLE_SCHEMA": false,
       "LOG_LEVEL": 30,
       "MAX_RENDER_SIZE_BYTES": 104857600,
       "MAX_STRING_LENGTH": 250,
       "NUM_PAST_SAMPLES_TRACKED": 3,
       "RANDOM_STATE": 12648430,
       "RESET_INDEX_VALUES": false,
       "ROW_SAMPLING_METHOD": "random",
       "SAMPLING_FACTOR": 0.1,
       "SAMPLING_METHOD": "random",
       "STRINGIFY_COLUMN_VALUES": true,
       "STRINGIFY_INDEX_VALUES": false
      },
      "sample_history": [],
      "sampling_time": "2023-08-12T07:38:58.674913",
      "user_variable_name": null,
      "variable_name": "unk_dataframe_fd70886082574d80957b7eba01c6832a"
     }
    },
    "ExecuteTime": {
     "end_time": "2023-09-08T16:33:47.801726Z",
     "start_time": "2023-09-08T16:33:47.681725Z"
    }
   },
   "execution_count": 5,
   "source": [
    "from sklearn.model_selection import cross_val_score\n",
    "from sklearn.model_selection import RepeatedKFold, RepeatedStratifiedKFold\n",
    "from sklearn.linear_model import LassoLarsCV\n",
    "\n",
    "# cv = RepeatedKFold(n_splits=5, n_repeats=3, random_state=1)\n",
    "cv = RepeatedStratifiedKFold(n_splits=3,n_repeats=3, random_state=1)\n",
    "#model = LarsCV(cv=cv, n_jobs=-1)\n",
    "#scores = cross_val_score(model, X, y, scoring='neg_mean_absolute_error', cv=cv, n_jobs=-1)\n",
    "#scores = np.absolute(scores)\n",
    "#print('Mean MAE: %.3f (%.3f)' % (np.mean(scores), np.std(scores)))\n"
   ],
   "outputs": []
  },
  {
   "id": "d5efb1ed-aa31-4cd5-882c-8c47fc41c818",
   "cell_type": "code",
   "metadata": {
    "jupyter": {
     "outputs_hidden": false,
     "source_hidden": false
    },
    "noteable": {
     "cell_type": "code",
     "output_collection_id": "c20e2709-e089-4284-ad4a-b4da139faa22"
    },
    "ExecuteTime": {
     "end_time": "2023-09-08T16:33:50.209569Z",
     "start_time": "2023-09-08T16:33:48.520649Z"
    }
   },
   "execution_count": 6,
   "source": [
    "model = LassoLarsCV(cv=cv, normalize=True).fit(X,y)"
   ],
   "outputs": [
    {
     "name": "stderr",
     "output_type": "stream",
     "text": [
      "/Applications/Ananconda/anaconda3/lib/python3.11/site-packages/sklearn/linear_model/_base.py:109: FutureWarning: 'normalize' was deprecated in version 1.2 and will be removed in 1.4.\n",
      "If you wish to scale the data, use Pipeline with a StandardScaler in a preprocessing stage. To reproduce the previous behavior:\n",
      "\n",
      "from sklearn.pipeline import make_pipeline\n",
      "\n",
      "model = make_pipeline(StandardScaler(with_mean=False), LassoLarsCV())\n",
      "\n",
      "If you wish to pass a sample_weight parameter, you need to pass it as a fit parameter to each step of the pipeline as follows:\n",
      "\n",
      "kwargs = {s[0] + '__sample_weight': sample_weight for s in model.steps}\n",
      "model.fit(X, y, **kwargs)\n",
      "\n",
      "Set parameter alpha to: original_alpha * np.sqrt(n_samples). \n",
      "  warnings.warn(\n",
      "/Applications/Ananconda/anaconda3/lib/python3.11/site-packages/sklearn/model_selection/_split.py:700: UserWarning: The least populated class in y has only 1 members, which is less than n_splits=3.\n",
      "  warnings.warn(\n",
      "/Applications/Ananconda/anaconda3/lib/python3.11/site-packages/sklearn/model_selection/_split.py:700: UserWarning: The least populated class in y has only 1 members, which is less than n_splits=3.\n",
      "  warnings.warn(\n",
      "/Applications/Ananconda/anaconda3/lib/python3.11/site-packages/sklearn/model_selection/_split.py:700: UserWarning: The least populated class in y has only 1 members, which is less than n_splits=3.\n",
      "  warnings.warn(\n"
     ]
    }
   ]
  },
  {
   "id": "9c4a6a79-3ea7-48b8-abf1-fb56c152ec2d",
   "cell_type": "code",
   "metadata": {
    "jupyter": {
     "outputs_hidden": false,
     "source_hidden": false
    },
    "noteable": {
     "cell_type": "code",
     "output_collection_id": "4c6f2916-1301-4abe-9115-f8275e698a4a"
    },
    "datalink": {
     "9cc31f8b-0ad6-4648-b8a0-df3fe473de59": {
      "applied_filters": [],
      "dataframe_info": {
       "default_index_used": true,
       "orig_num_cols": 684,
       "orig_num_rows": 163,
       "orig_size_bytes": 893240,
       "truncated_num_cols": 100,
       "truncated_num_rows": 163,
       "truncated_size_bytes": 131704,
       "truncated_string_columns": []
      },
      "display_id": "9cc31f8b-0ad6-4648-b8a0-df3fe473de59",
      "dx_settings": {
       "ALLOW_NOTEABLE_ATTRS": true,
       "COLUMN_SAMPLING_METHOD": "outer",
       "DB_LOCATION": ":memory:",
       "DEV_MODE": false,
       "DISPLAY_MAX_COLUMNS": 100,
       "DISPLAY_MAX_ROWS": 50000,
       "DISPLAY_MODE": "simple",
       "ENABLE_ASSIGNMENT": true,
       "ENABLE_DATALINK": true,
       "FLATTEN_COLUMN_VALUES": true,
       "FLATTEN_INDEX_VALUES": false,
       "GENERATE_DEX_METADATA": false,
       "HTML_TABLE_SCHEMA": false,
       "LOG_LEVEL": 30,
       "MAX_RENDER_SIZE_BYTES": 104857600,
       "MAX_STRING_LENGTH": 250,
       "NUM_PAST_SAMPLES_TRACKED": 3,
       "RANDOM_STATE": 12648430,
       "RESET_INDEX_VALUES": false,
       "ROW_SAMPLING_METHOD": "random",
       "SAMPLING_FACTOR": 0.1,
       "SAMPLING_METHOD": "random",
       "STRINGIFY_COLUMN_VALUES": true,
       "STRINGIFY_INDEX_VALUES": false
      },
      "sample_history": [],
      "sampling_time": "2023-08-11T18:30:26.067155",
      "user_variable_name": "X",
      "variable_name": "X"
     },
     "81315040-a787-44ea-b5cf-da7c91729763": {
      "applied_filters": [],
      "dataframe_info": {
       "default_index_used": true,
       "orig_num_cols": 684,
       "orig_num_rows": 163,
       "orig_size_bytes": 893240,
       "truncated_num_cols": 100,
       "truncated_num_rows": 163,
       "truncated_size_bytes": 131704,
       "truncated_string_columns": []
      },
      "display_id": "81315040-a787-44ea-b5cf-da7c91729763",
      "dx_settings": {
       "ALLOW_NOTEABLE_ATTRS": true,
       "COLUMN_SAMPLING_METHOD": "outer",
       "DB_LOCATION": ":memory:",
       "DEV_MODE": false,
       "DISPLAY_MAX_COLUMNS": 100,
       "DISPLAY_MAX_ROWS": 50000,
       "DISPLAY_MODE": "simple",
       "ENABLE_ASSIGNMENT": true,
       "ENABLE_DATALINK": true,
       "FLATTEN_COLUMN_VALUES": true,
       "FLATTEN_INDEX_VALUES": false,
       "GENERATE_DEX_METADATA": false,
       "HTML_TABLE_SCHEMA": false,
       "LOG_LEVEL": 30,
       "MAX_RENDER_SIZE_BYTES": 104857600,
       "MAX_STRING_LENGTH": 250,
       "NUM_PAST_SAMPLES_TRACKED": 3,
       "RANDOM_STATE": 12648430,
       "RESET_INDEX_VALUES": false,
       "ROW_SAMPLING_METHOD": "random",
       "SAMPLING_FACTOR": 0.1,
       "SAMPLING_METHOD": "random",
       "STRINGIFY_COLUMN_VALUES": true,
       "STRINGIFY_INDEX_VALUES": false
      },
      "sample_history": [],
      "sampling_time": "2023-08-11T18:45:09.632308",
      "user_variable_name": "X",
      "variable_name": "X"
     }
    },
    "ExecuteTime": {
     "end_time": "2023-09-08T16:33:53.019431Z",
     "start_time": "2023-09-08T16:33:52.551930Z"
    }
   },
   "execution_count": 7,
   "source": [
    "plt.bar([i + 320 for i in range(len(model.feature_names_in_))], np.absolute(model.coef_))\n",
    "plt.show()  "
   ],
   "outputs": [
    {
     "data": {
      "text/plain": "<Figure size 640x480 with 1 Axes>",
      "image/png": "[encoded data removed]"
     },
     "metadata": {},
     "output_type": "display_data"
    }
   ]
  },
  {
   "id": "4889da00-b0d6-4221-9e26-489e7e65ee5e",
   "cell_type": "code",
   "metadata": {
    "jupyter": {
     "outputs_hidden": false,
     "source_hidden": false
    },
    "noteable": {
     "cell_type": "code",
     "output_collection_id": "0eb8e1c8-ed92-4f7a-9831-7d1649cf3596"
    },
    "ExecuteTime": {
     "end_time": "2023-09-08T16:33:55.829611Z",
     "start_time": "2023-09-08T16:33:55.803979Z"
    }
   },
   "execution_count": 8,
   "source": [
    "model.score(X,y)"
   ],
   "outputs": [
    {
     "data": {
      "text/plain": "0.9625076463413927"
     },
     "execution_count": 8,
     "metadata": {},
     "output_type": "execute_result"
    }
   ]
  },
  {
   "id": "5a15cffc-1324-427d-b542-4cec9ac140bd",
   "cell_type": "code",
   "metadata": {
    "jupyter": {
     "outputs_hidden": false,
     "source_hidden": false
    },
    "noteable": {
     "cell_type": "code",
     "output_collection_id": "668efa8a-131c-4968-9e67-aea540a466f7"
    },
    "ExecuteTime": {
     "end_time": "2023-09-08T16:33:58.092161Z",
     "start_time": "2023-09-08T16:33:58.013236Z"
    }
   },
   "execution_count": 9,
   "source": [
    "y_pred = model.predict(X)\n",
    "\n",
    "rmse = np.sqrt(np.mean((y_pred - y)**2))\n",
    "print(\"RMSE:\", rmse)"
   ],
   "outputs": [
    {
     "name": "stdout",
     "output_type": "stream",
     "text": [
      "RMSE: 17.115965979774774\n"
     ]
    }
   ]
  },
  {
   "id": "d65d5dcd-c1d3-466a-8697-257124e44d5d",
   "cell_type": "code",
   "metadata": {
    "jupyter": {
     "outputs_hidden": true,
     "source_hidden": false
    },
    "noteable": {
     "cell_type": "code",
     "output_collection_id": "5dae3621-e5c1-4e2e-ba7f-3b34cc3046cd"
    },
    "ExecuteTime": {
     "end_time": "2023-09-08T16:34:00.276844Z",
     "start_time": "2023-09-08T16:34:00.266869Z"
    }
   },
   "execution_count": 10,
   "source": [
    "model.coef_"
   ],
   "outputs": [
    {
     "data": {
      "text/plain": "array([-1.58922708e+03,  0.00000000e+00,  0.00000000e+00,  0.00000000e+00,\n        2.21776454e+03,  0.00000000e+00,  1.27344652e+03,  0.00000000e+00,\n        2.22866660e+02,  0.00000000e+00, -1.55814113e+03, -2.60236749e+03,\n        0.00000000e+00, -4.22980824e+03,  0.00000000e+00,  0.00000000e+00,\n        8.46725250e+03,  0.00000000e+00,  0.00000000e+00,  0.00000000e+00,\n        0.00000000e+00,  0.00000000e+00,  0.00000000e+00,  0.00000000e+00,\n        0.00000000e+00,  5.44401364e+03,  0.00000000e+00,  3.84640001e+03,\n        0.00000000e+00,  0.00000000e+00, -1.17725626e+02,  0.00000000e+00,\n        0.00000000e+00, -3.75718127e+03,  0.00000000e+00,  0.00000000e+00,\n       -4.66594446e+03, -2.87882052e+03,  0.00000000e+00,  0.00000000e+00,\n        0.00000000e+00, -2.15587131e+03,  0.00000000e+00,  0.00000000e+00,\n        0.00000000e+00,  0.00000000e+00, -6.11982749e+02,  0.00000000e+00,\n        0.00000000e+00,  0.00000000e+00,  0.00000000e+00,  0.00000000e+00,\n        6.52684190e+03,  0.00000000e+00,  1.43222385e+03, -4.47822942e+03,\n        0.00000000e+00, -4.37460206e+02, -1.96471766e+03,  0.00000000e+00,\n        0.00000000e+00,  0.00000000e+00,  0.00000000e+00,  0.00000000e+00,\n        0.00000000e+00,  0.00000000e+00,  0.00000000e+00,  0.00000000e+00,\n        0.00000000e+00,  0.00000000e+00,  0.00000000e+00,  0.00000000e+00,\n        0.00000000e+00,  0.00000000e+00,  0.00000000e+00,  0.00000000e+00,\n        0.00000000e+00,  0.00000000e+00,  1.34998231e+02,  0.00000000e+00,\n        0.00000000e+00,  0.00000000e+00,  0.00000000e+00,  0.00000000e+00,\n        0.00000000e+00,  0.00000000e+00,  0.00000000e+00,  0.00000000e+00,\n        0.00000000e+00,  0.00000000e+00,  0.00000000e+00,  0.00000000e+00,\n        0.00000000e+00,  0.00000000e+00,  0.00000000e+00,  0.00000000e+00,\n        0.00000000e+00,  0.00000000e+00,  0.00000000e+00,  0.00000000e+00,\n        0.00000000e+00,  0.00000000e+00,  0.00000000e+00,  0.00000000e+00,\n        0.00000000e+00,  0.00000000e+00,  0.00000000e+00,  0.00000000e+00,\n        0.00000000e+00,  0.00000000e+00,  0.00000000e+00,  0.00000000e+00,\n        0.00000000e+00,  0.00000000e+00,  0.00000000e+00,  0.00000000e+00,\n        0.00000000e+00,  0.00000000e+00,  0.00000000e+00,  0.00000000e+00,\n        0.00000000e+00,  0.00000000e+00,  0.00000000e+00,  0.00000000e+00,\n        0.00000000e+00,  0.00000000e+00,  0.00000000e+00,  0.00000000e+00,\n        0.00000000e+00,  0.00000000e+00,  0.00000000e+00,  0.00000000e+00,\n        0.00000000e+00,  0.00000000e+00,  0.00000000e+00,  0.00000000e+00,\n        0.00000000e+00,  0.00000000e+00,  0.00000000e+00,  0.00000000e+00,\n        0.00000000e+00,  0.00000000e+00,  0.00000000e+00,  0.00000000e+00,\n        0.00000000e+00,  0.00000000e+00,  0.00000000e+00,  0.00000000e+00,\n        0.00000000e+00,  0.00000000e+00,  0.00000000e+00,  0.00000000e+00,\n        0.00000000e+00,  0.00000000e+00,  0.00000000e+00,  0.00000000e+00,\n        0.00000000e+00,  0.00000000e+00,  0.00000000e+00,  0.00000000e+00,\n        0.00000000e+00,  0.00000000e+00,  0.00000000e+00,  0.00000000e+00,\n        0.00000000e+00,  0.00000000e+00,  0.00000000e+00,  0.00000000e+00,\n        0.00000000e+00,  0.00000000e+00,  0.00000000e+00,  0.00000000e+00,\n        0.00000000e+00,  0.00000000e+00,  0.00000000e+00,  0.00000000e+00,\n        0.00000000e+00,  0.00000000e+00,  0.00000000e+00,  0.00000000e+00,\n        0.00000000e+00,  0.00000000e+00,  0.00000000e+00,  0.00000000e+00,\n        0.00000000e+00,  0.00000000e+00,  0.00000000e+00,  0.00000000e+00,\n        0.00000000e+00,  0.00000000e+00,  0.00000000e+00,  0.00000000e+00,\n        3.75735733e+03,  0.00000000e+00,  0.00000000e+00,  0.00000000e+00,\n        0.00000000e+00,  1.29125408e+02,  0.00000000e+00,  0.00000000e+00,\n        0.00000000e+00,  0.00000000e+00,  0.00000000e+00,  6.74669198e+02,\n        0.00000000e+00,  0.00000000e+00,  0.00000000e+00,  0.00000000e+00,\n        0.00000000e+00,  0.00000000e+00,  0.00000000e+00,  0.00000000e+00,\n        0.00000000e+00,  0.00000000e+00,  0.00000000e+00,  0.00000000e+00,\n        0.00000000e+00,  0.00000000e+00,  0.00000000e+00,  0.00000000e+00,\n        0.00000000e+00,  0.00000000e+00,  0.00000000e+00,  0.00000000e+00,\n        0.00000000e+00,  0.00000000e+00,  0.00000000e+00,  0.00000000e+00,\n        0.00000000e+00,  0.00000000e+00,  0.00000000e+00,  0.00000000e+00,\n        0.00000000e+00,  0.00000000e+00,  0.00000000e+00,  0.00000000e+00,\n        0.00000000e+00, -1.21592461e+03,  0.00000000e+00,  0.00000000e+00,\n        0.00000000e+00,  0.00000000e+00,  0.00000000e+00,  0.00000000e+00,\n        0.00000000e+00,  0.00000000e+00,  0.00000000e+00,  0.00000000e+00,\n        0.00000000e+00,  0.00000000e+00,  0.00000000e+00,  0.00000000e+00,\n        0.00000000e+00,  0.00000000e+00,  0.00000000e+00,  0.00000000e+00,\n        0.00000000e+00,  0.00000000e+00,  0.00000000e+00,  0.00000000e+00,\n        0.00000000e+00,  0.00000000e+00,  0.00000000e+00,  0.00000000e+00,\n        0.00000000e+00,  0.00000000e+00,  0.00000000e+00,  0.00000000e+00,\n       -7.88595344e+02,  0.00000000e+00,  0.00000000e+00, -5.73438170e+02,\n        0.00000000e+00,  0.00000000e+00,  0.00000000e+00,  0.00000000e+00,\n        0.00000000e+00,  0.00000000e+00,  0.00000000e+00,  0.00000000e+00,\n        0.00000000e+00,  0.00000000e+00,  0.00000000e+00,  0.00000000e+00,\n        0.00000000e+00, -1.28535705e+03,  0.00000000e+00,  0.00000000e+00,\n        0.00000000e+00,  0.00000000e+00,  0.00000000e+00,  0.00000000e+00,\n        0.00000000e+00,  0.00000000e+00,  0.00000000e+00,  0.00000000e+00,\n        0.00000000e+00,  0.00000000e+00,  0.00000000e+00,  0.00000000e+00,\n        0.00000000e+00,  0.00000000e+00,  0.00000000e+00,  0.00000000e+00,\n        0.00000000e+00,  0.00000000e+00,  0.00000000e+00,  0.00000000e+00,\n        0.00000000e+00,  0.00000000e+00,  0.00000000e+00,  0.00000000e+00,\n        0.00000000e+00,  0.00000000e+00,  0.00000000e+00,  0.00000000e+00,\n        0.00000000e+00,  0.00000000e+00,  0.00000000e+00,  0.00000000e+00,\n        0.00000000e+00,  0.00000000e+00,  0.00000000e+00,  0.00000000e+00,\n        0.00000000e+00,  0.00000000e+00,  0.00000000e+00,  0.00000000e+00,\n        0.00000000e+00,  0.00000000e+00,  0.00000000e+00,  0.00000000e+00,\n        0.00000000e+00,  0.00000000e+00,  0.00000000e+00,  0.00000000e+00,\n        0.00000000e+00,  0.00000000e+00,  0.00000000e+00,  0.00000000e+00,\n        0.00000000e+00,  0.00000000e+00,  0.00000000e+00,  0.00000000e+00,\n        0.00000000e+00,  0.00000000e+00,  0.00000000e+00,  0.00000000e+00,\n        0.00000000e+00,  0.00000000e+00,  0.00000000e+00,  0.00000000e+00,\n        0.00000000e+00,  0.00000000e+00,  0.00000000e+00,  0.00000000e+00,\n        0.00000000e+00,  0.00000000e+00,  0.00000000e+00,  0.00000000e+00,\n        0.00000000e+00,  0.00000000e+00,  0.00000000e+00,  0.00000000e+00,\n        0.00000000e+00,  0.00000000e+00,  0.00000000e+00,  0.00000000e+00,\n        0.00000000e+00,  0.00000000e+00,  0.00000000e+00,  6.73943704e-16,\n        0.00000000e+00,  0.00000000e+00,  0.00000000e+00,  0.00000000e+00,\n        0.00000000e+00,  0.00000000e+00, -8.79818573e+02, -1.18488970e+03,\n        0.00000000e+00,  0.00000000e+00,  0.00000000e+00,  0.00000000e+00,\n        0.00000000e+00,  0.00000000e+00,  0.00000000e+00,  0.00000000e+00,\n        0.00000000e+00,  0.00000000e+00,  0.00000000e+00,  0.00000000e+00,\n        0.00000000e+00,  0.00000000e+00,  0.00000000e+00,  0.00000000e+00,\n        0.00000000e+00,  0.00000000e+00,  4.30415045e+02,  0.00000000e+00,\n        0.00000000e+00,  0.00000000e+00,  0.00000000e+00,  0.00000000e+00,\n        0.00000000e+00,  0.00000000e+00,  0.00000000e+00,  0.00000000e+00,\n        0.00000000e+00,  0.00000000e+00,  0.00000000e+00,  0.00000000e+00,\n        0.00000000e+00,  0.00000000e+00,  0.00000000e+00,  0.00000000e+00,\n        0.00000000e+00,  0.00000000e+00,  0.00000000e+00,  0.00000000e+00,\n        0.00000000e+00,  0.00000000e+00,  0.00000000e+00,  0.00000000e+00,\n        0.00000000e+00,  0.00000000e+00,  0.00000000e+00,  0.00000000e+00,\n        0.00000000e+00,  0.00000000e+00,  0.00000000e+00,  0.00000000e+00,\n        0.00000000e+00,  0.00000000e+00,  0.00000000e+00,  0.00000000e+00,\n        0.00000000e+00,  0.00000000e+00,  0.00000000e+00,  0.00000000e+00,\n        0.00000000e+00,  2.37434637e+03,  0.00000000e+00,  0.00000000e+00,\n        0.00000000e+00,  0.00000000e+00,  0.00000000e+00,  0.00000000e+00,\n        0.00000000e+00,  0.00000000e+00,  0.00000000e+00,  0.00000000e+00,\n        0.00000000e+00,  0.00000000e+00,  0.00000000e+00,  0.00000000e+00,\n        0.00000000e+00,  0.00000000e+00,  0.00000000e+00,  0.00000000e+00,\n        0.00000000e+00,  0.00000000e+00,  0.00000000e+00,  0.00000000e+00,\n        0.00000000e+00,  0.00000000e+00,  0.00000000e+00,  0.00000000e+00,\n        0.00000000e+00,  0.00000000e+00,  0.00000000e+00,  0.00000000e+00,\n        6.82445659e+02,  0.00000000e+00,  0.00000000e+00,  0.00000000e+00,\n        0.00000000e+00,  0.00000000e+00,  0.00000000e+00,  0.00000000e+00,\n        0.00000000e+00,  0.00000000e+00,  0.00000000e+00,  0.00000000e+00,\n        0.00000000e+00,  0.00000000e+00,  0.00000000e+00,  0.00000000e+00,\n        0.00000000e+00,  0.00000000e+00,  0.00000000e+00,  0.00000000e+00,\n        0.00000000e+00,  0.00000000e+00,  0.00000000e+00,  0.00000000e+00,\n        0.00000000e+00,  0.00000000e+00,  0.00000000e+00,  0.00000000e+00,\n        0.00000000e+00,  0.00000000e+00,  0.00000000e+00,  0.00000000e+00,\n        0.00000000e+00,  0.00000000e+00,  0.00000000e+00,  0.00000000e+00,\n        0.00000000e+00,  0.00000000e+00,  0.00000000e+00,  0.00000000e+00,\n        0.00000000e+00,  0.00000000e+00,  0.00000000e+00,  0.00000000e+00,\n        0.00000000e+00,  0.00000000e+00,  0.00000000e+00,  0.00000000e+00,\n        0.00000000e+00,  0.00000000e+00,  0.00000000e+00,  0.00000000e+00,\n        0.00000000e+00,  0.00000000e+00,  0.00000000e+00,  0.00000000e+00,\n        0.00000000e+00,  0.00000000e+00,  0.00000000e+00,  0.00000000e+00,\n        0.00000000e+00,  0.00000000e+00,  0.00000000e+00,  0.00000000e+00,\n       -5.56414488e+02,  0.00000000e+00,  0.00000000e+00,  0.00000000e+00,\n        0.00000000e+00,  0.00000000e+00,  0.00000000e+00,  0.00000000e+00,\n        0.00000000e+00,  0.00000000e+00,  0.00000000e+00,  0.00000000e+00,\n        0.00000000e+00,  0.00000000e+00,  0.00000000e+00,  0.00000000e+00,\n        0.00000000e+00,  0.00000000e+00,  0.00000000e+00,  0.00000000e+00,\n        0.00000000e+00,  0.00000000e+00,  0.00000000e+00,  0.00000000e+00,\n        0.00000000e+00,  0.00000000e+00,  0.00000000e+00,  0.00000000e+00,\n        0.00000000e+00,  0.00000000e+00,  0.00000000e+00,  0.00000000e+00,\n        0.00000000e+00,  0.00000000e+00, -1.44856466e+03,  0.00000000e+00,\n        0.00000000e+00,  0.00000000e+00,  0.00000000e+00,  0.00000000e+00,\n        0.00000000e+00,  0.00000000e+00,  0.00000000e+00,  0.00000000e+00,\n        0.00000000e+00,  0.00000000e+00,  0.00000000e+00,  0.00000000e+00,\n        0.00000000e+00,  0.00000000e+00,  0.00000000e+00,  0.00000000e+00,\n        0.00000000e+00,  0.00000000e+00,  0.00000000e+00,  0.00000000e+00,\n        0.00000000e+00,  0.00000000e+00,  0.00000000e+00,  0.00000000e+00,\n        0.00000000e+00,  0.00000000e+00,  0.00000000e+00,  0.00000000e+00,\n        0.00000000e+00,  0.00000000e+00,  0.00000000e+00,  0.00000000e+00,\n        0.00000000e+00,  0.00000000e+00,  0.00000000e+00,  0.00000000e+00,\n        0.00000000e+00,  0.00000000e+00,  0.00000000e+00,  0.00000000e+00,\n        0.00000000e+00,  0.00000000e+00,  0.00000000e+00,  0.00000000e+00,\n        0.00000000e+00,  0.00000000e+00,  0.00000000e+00,  0.00000000e+00,\n        0.00000000e+00,  0.00000000e+00,  0.00000000e+00,  0.00000000e+00,\n        0.00000000e+00,  0.00000000e+00,  0.00000000e+00,  0.00000000e+00,\n        0.00000000e+00,  0.00000000e+00,  0.00000000e+00,  0.00000000e+00,\n        0.00000000e+00,  0.00000000e+00,  0.00000000e+00,  0.00000000e+00,\n        0.00000000e+00,  0.00000000e+00,  0.00000000e+00,  0.00000000e+00,\n        0.00000000e+00,  0.00000000e+00,  0.00000000e+00,  0.00000000e+00,\n        0.00000000e+00,  0.00000000e+00,  0.00000000e+00,  0.00000000e+00,\n        0.00000000e+00,  0.00000000e+00,  0.00000000e+00,  0.00000000e+00,\n        0.00000000e+00,  0.00000000e+00,  0.00000000e+00,  0.00000000e+00,\n        0.00000000e+00,  0.00000000e+00,  0.00000000e+00,  0.00000000e+00,\n        0.00000000e+00,  0.00000000e+00,  0.00000000e+00,  0.00000000e+00,\n        0.00000000e+00,  0.00000000e+00,  0.00000000e+00,  0.00000000e+00,\n        4.30128407e+02,  0.00000000e+00,  0.00000000e+00,  3.19196155e+02,\n        0.00000000e+00,  0.00000000e+00,  0.00000000e+00,  0.00000000e+00,\n        0.00000000e+00,  0.00000000e+00,  0.00000000e+00,  0.00000000e+00,\n        0.00000000e+00])"
     },
     "execution_count": 10,
     "metadata": {},
     "output_type": "execute_result"
    }
   ]
  },
  {
   "id": "9ed30b29-5846-482d-ab3b-f57544b49798",
   "cell_type": "code",
   "metadata": {
    "jupyter": {
     "outputs_hidden": false,
     "source_hidden": false
    },
    "noteable": {
     "cell_type": "code",
     "output_collection_id": "f68e91d9-296d-4ce5-8451-965c4ce1da78"
    },
    "ExecuteTime": {
     "end_time": "2023-09-08T16:34:02.089741Z",
     "start_time": "2023-09-08T16:34:02.081100Z"
    }
   },
   "execution_count": 11,
   "source": [
    "from numpy.linalg import norm\n",
    "\n",
    "LOD = (3.3 * np.std(y_pred)) / norm(model.coef_)\n",
    "LOD"
   ],
   "outputs": [
    {
     "data": {
      "text/plain": "0.016358028335899298"
     },
     "execution_count": 11,
     "metadata": {},
     "output_type": "execute_result"
    }
   ]
  },
  {
   "id": "78897765-46d7-4c2b-85e7-1175ce93f10b",
   "cell_type": "markdown",
   "source": [
    "Using Optuna to find the best algorithm\n"
   ],
   "metadata": {
    "noteable": {
     "cell_type": "markdown"
    }
   }
  },
  {
   "id": "00ae6b15-72e6-40e9-8d38-4ad96d3da0c9",
   "cell_type": "code",
   "metadata": {
    "jupyter": {
     "outputs_hidden": false,
     "source_hidden": false
    },
    "noteable": {
     "cell_type": "code",
     "output_collection_id": "b8fcf9d2-fafa-46ad-81e5-23a5aaf8ff9a"
    },
    "ExecuteTime": {
     "end_time": "2023-09-03T06:31:11.804563Z",
     "start_time": "2023-09-03T06:31:10.879152Z"
    }
   },
   "execution_count": 33,
   "source": [
    "from sklearn.ensemble import RandomForestRegressor,ExtraTreesRegressor\n",
    "from sklearn.feature_selection import RFECV\n",
    "\n",
    "rfecv = RFECV(estimator=ExtraTreesRegressor(),cv=cv,scoring=\"neg_root_mean_squared_error\",min_features_to_select=50).fit(X,y)\n",
    "n_scores = len(rfecv.cv_results_[\"mean_test_score\"])\n",
    "plt.figure()\n",
    "plt.xlabel(\"Number of features selected\")\n",
    "plt.ylabel(\"Mean test accuracy\")\n",
    "plt.errorbar(\n",
    "    range(50, n_scores + 50),\n",
    "    rfecv.cv_results_[\"mean_test_score\"],\n",
    "    yerr=rfecv.cv_results_[\"std_test_score\"],\n",
    ")\n",
    "plt.title(\"Recursive Feature Elimination \\nwith correlated features\")\n",
    "plt.show()"
   ],
   "outputs": [
    {
     "ename": "ValueError",
     "evalue": "'neg_root_mean_absolute_error' is not a valid scoring value. Use sklearn.metrics.get_scorer_names() to get valid options.",
     "output_type": "error",
     "traceback": [
      "\u001B[0;31m---------------------------------------------------------------------------\u001B[0m",
      "\u001B[0;31mKeyError\u001B[0m                                  Traceback (most recent call last)",
      "File \u001B[0;32m/Applications/Ananconda/anaconda3/lib/python3.11/site-packages/sklearn/metrics/_scorer.py:430\u001B[0m, in \u001B[0;36mget_scorer\u001B[0;34m(scoring)\u001B[0m\n\u001B[1;32m    429\u001B[0m \u001B[38;5;28;01mtry\u001B[39;00m:\n\u001B[0;32m--> 430\u001B[0m     scorer \u001B[38;5;241m=\u001B[39m copy\u001B[38;5;241m.\u001B[39mdeepcopy(_SCORERS[scoring])\n\u001B[1;32m    431\u001B[0m \u001B[38;5;28;01mexcept\u001B[39;00m \u001B[38;5;167;01mKeyError\u001B[39;00m:\n",
      "\u001B[0;31mKeyError\u001B[0m: 'neg_root_mean_absolute_error'",
      "\nDuring handling of the above exception, another exception occurred:\n",
      "\u001B[0;31mValueError\u001B[0m                                Traceback (most recent call last)",
      "Cell \u001B[0;32mIn[33], line 4\u001B[0m\n\u001B[1;32m      1\u001B[0m \u001B[38;5;28;01mfrom\u001B[39;00m \u001B[38;5;21;01msklearn\u001B[39;00m\u001B[38;5;21;01m.\u001B[39;00m\u001B[38;5;21;01mensemble\u001B[39;00m \u001B[38;5;28;01mimport\u001B[39;00m RandomForestRegressor,ExtraTreesRegressor\n\u001B[1;32m      2\u001B[0m \u001B[38;5;28;01mfrom\u001B[39;00m \u001B[38;5;21;01msklearn\u001B[39;00m\u001B[38;5;21;01m.\u001B[39;00m\u001B[38;5;21;01mfeature_selection\u001B[39;00m \u001B[38;5;28;01mimport\u001B[39;00m RFECV\n\u001B[0;32m----> 4\u001B[0m rfecv \u001B[38;5;241m=\u001B[39m RFECV(estimator\u001B[38;5;241m=\u001B[39mExtraTreesRegressor(),cv\u001B[38;5;241m=\u001B[39mcv,scoring\u001B[38;5;241m=\u001B[39m\u001B[38;5;124m\"\u001B[39m\u001B[38;5;124mneg_root_mean_absolute_error\u001B[39m\u001B[38;5;124m\"\u001B[39m,min_features_to_select\u001B[38;5;241m=\u001B[39m\u001B[38;5;241m50\u001B[39m)\u001B[38;5;241m.\u001B[39mfit(X,y)\n\u001B[1;32m      5\u001B[0m n_scores \u001B[38;5;241m=\u001B[39m \u001B[38;5;28mlen\u001B[39m(rfecv\u001B[38;5;241m.\u001B[39mcv_results_[\u001B[38;5;124m\"\u001B[39m\u001B[38;5;124mmean_test_score\u001B[39m\u001B[38;5;124m\"\u001B[39m])\n\u001B[1;32m      6\u001B[0m plt\u001B[38;5;241m.\u001B[39mfigure()\n",
      "File \u001B[0;32m/Applications/Ananconda/anaconda3/lib/python3.11/site-packages/sklearn/feature_selection/_rfe.py:689\u001B[0m, in \u001B[0;36mRFECV.fit\u001B[0;34m(self, X, y, groups)\u001B[0m\n\u001B[1;32m    687\u001B[0m \u001B[38;5;66;03m# Initialization\u001B[39;00m\n\u001B[1;32m    688\u001B[0m cv \u001B[38;5;241m=\u001B[39m check_cv(\u001B[38;5;28mself\u001B[39m\u001B[38;5;241m.\u001B[39mcv, y, classifier\u001B[38;5;241m=\u001B[39mis_classifier(\u001B[38;5;28mself\u001B[39m\u001B[38;5;241m.\u001B[39mestimator))\n\u001B[0;32m--> 689\u001B[0m scorer \u001B[38;5;241m=\u001B[39m check_scoring(\u001B[38;5;28mself\u001B[39m\u001B[38;5;241m.\u001B[39mestimator, scoring\u001B[38;5;241m=\u001B[39m\u001B[38;5;28mself\u001B[39m\u001B[38;5;241m.\u001B[39mscoring)\n\u001B[1;32m    690\u001B[0m n_features \u001B[38;5;241m=\u001B[39m X\u001B[38;5;241m.\u001B[39mshape[\u001B[38;5;241m1\u001B[39m]\n\u001B[1;32m    692\u001B[0m \u001B[38;5;28;01mif\u001B[39;00m \u001B[38;5;241m0.0\u001B[39m \u001B[38;5;241m<\u001B[39m \u001B[38;5;28mself\u001B[39m\u001B[38;5;241m.\u001B[39mstep \u001B[38;5;241m<\u001B[39m \u001B[38;5;241m1.0\u001B[39m:\n",
      "File \u001B[0;32m/Applications/Ananconda/anaconda3/lib/python3.11/site-packages/sklearn/metrics/_scorer.py:479\u001B[0m, in \u001B[0;36mcheck_scoring\u001B[0;34m(estimator, scoring, allow_none)\u001B[0m\n\u001B[1;32m    474\u001B[0m     \u001B[38;5;28;01mraise\u001B[39;00m \u001B[38;5;167;01mTypeError\u001B[39;00m(\n\u001B[1;32m    475\u001B[0m         \u001B[38;5;124m\"\u001B[39m\u001B[38;5;124mestimator should be an estimator implementing \u001B[39m\u001B[38;5;124m'\u001B[39m\u001B[38;5;124mfit\u001B[39m\u001B[38;5;124m'\u001B[39m\u001B[38;5;124m method, \u001B[39m\u001B[38;5;132;01m%r\u001B[39;00m\u001B[38;5;124m was passed\u001B[39m\u001B[38;5;124m\"\u001B[39m\n\u001B[1;32m    476\u001B[0m         \u001B[38;5;241m%\u001B[39m estimator\n\u001B[1;32m    477\u001B[0m     )\n\u001B[1;32m    478\u001B[0m \u001B[38;5;28;01mif\u001B[39;00m \u001B[38;5;28misinstance\u001B[39m(scoring, \u001B[38;5;28mstr\u001B[39m):\n\u001B[0;32m--> 479\u001B[0m     \u001B[38;5;28;01mreturn\u001B[39;00m get_scorer(scoring)\n\u001B[1;32m    480\u001B[0m \u001B[38;5;28;01melif\u001B[39;00m \u001B[38;5;28mcallable\u001B[39m(scoring):\n\u001B[1;32m    481\u001B[0m     \u001B[38;5;66;03m# Heuristic to ensure user has not passed a metric\u001B[39;00m\n\u001B[1;32m    482\u001B[0m     module \u001B[38;5;241m=\u001B[39m \u001B[38;5;28mgetattr\u001B[39m(scoring, \u001B[38;5;124m\"\u001B[39m\u001B[38;5;124m__module__\u001B[39m\u001B[38;5;124m\"\u001B[39m, \u001B[38;5;28;01mNone\u001B[39;00m)\n",
      "File \u001B[0;32m/Applications/Ananconda/anaconda3/lib/python3.11/site-packages/sklearn/metrics/_scorer.py:432\u001B[0m, in \u001B[0;36mget_scorer\u001B[0;34m(scoring)\u001B[0m\n\u001B[1;32m    430\u001B[0m         scorer \u001B[38;5;241m=\u001B[39m copy\u001B[38;5;241m.\u001B[39mdeepcopy(_SCORERS[scoring])\n\u001B[1;32m    431\u001B[0m     \u001B[38;5;28;01mexcept\u001B[39;00m \u001B[38;5;167;01mKeyError\u001B[39;00m:\n\u001B[0;32m--> 432\u001B[0m         \u001B[38;5;28;01mraise\u001B[39;00m \u001B[38;5;167;01mValueError\u001B[39;00m(\n\u001B[1;32m    433\u001B[0m             \u001B[38;5;124m\"\u001B[39m\u001B[38;5;132;01m%r\u001B[39;00m\u001B[38;5;124m is not a valid scoring value. \u001B[39m\u001B[38;5;124m\"\u001B[39m\n\u001B[1;32m    434\u001B[0m             \u001B[38;5;124m\"\u001B[39m\u001B[38;5;124mUse sklearn.metrics.get_scorer_names() \u001B[39m\u001B[38;5;124m\"\u001B[39m\n\u001B[1;32m    435\u001B[0m             \u001B[38;5;124m\"\u001B[39m\u001B[38;5;124mto get valid options.\u001B[39m\u001B[38;5;124m\"\u001B[39m \u001B[38;5;241m%\u001B[39m scoring\n\u001B[1;32m    436\u001B[0m         )\n\u001B[1;32m    437\u001B[0m \u001B[38;5;28;01melse\u001B[39;00m:\n\u001B[1;32m    438\u001B[0m     scorer \u001B[38;5;241m=\u001B[39m scoring\n",
      "\u001B[0;31mValueError\u001B[0m: 'neg_root_mean_absolute_error' is not a valid scoring value. Use sklearn.metrics.get_scorer_names() to get valid options."
     ]
    }
   ]
  },
  {
   "id": "d58d639f-7eea-4a59-bdeb-db41689c7e5e",
   "cell_type": "code",
   "metadata": {
    "jupyter": {
     "outputs_hidden": false,
     "source_hidden": false
    },
    "noteable": {
     "cell_type": "code",
     "output_collection_id": "a91770ba-4d1a-492e-81c2-46df8793cd09"
    },
    "datalink": {
     "3f832e74-6944-4b2c-bf87-1ae922366faf": {
      "applied_filters": [],
      "dataframe_info": {
       "default_index_used": true,
       "orig_num_cols": 455,
       "orig_num_rows": 163,
       "orig_size_bytes": 594624,
       "truncated_num_cols": 100,
       "truncated_num_rows": 163,
       "truncated_size_bytes": 131704,
       "truncated_string_columns": []
      },
      "display_id": "3f832e74-6944-4b2c-bf87-1ae922366faf",
      "dx_settings": {
       "ALLOW_NOTEABLE_ATTRS": true,
       "COLUMN_SAMPLING_METHOD": "outer",
       "DB_LOCATION": ":memory:",
       "DEV_MODE": false,
       "DISPLAY_MAX_COLUMNS": 100,
       "DISPLAY_MAX_ROWS": 50000,
       "DISPLAY_MODE": "simple",
       "ENABLE_ASSIGNMENT": true,
       "ENABLE_DATALINK": true,
       "FLATTEN_COLUMN_VALUES": true,
       "FLATTEN_INDEX_VALUES": false,
       "GENERATE_DEX_METADATA": false,
       "HTML_TABLE_SCHEMA": false,
       "LOG_LEVEL": 30,
       "MAX_RENDER_SIZE_BYTES": 104857600,
       "MAX_STRING_LENGTH": 250,
       "NUM_PAST_SAMPLES_TRACKED": 3,
       "RANDOM_STATE": 12648430,
       "RESET_INDEX_VALUES": false,
       "ROW_SAMPLING_METHOD": "random",
       "SAMPLING_FACTOR": 0.1,
       "SAMPLING_METHOD": "random",
       "STRINGIFY_COLUMN_VALUES": true,
       "STRINGIFY_INDEX_VALUES": false
      },
      "sample_history": [],
      "sampling_time": "2023-08-26T16:47:14.761291",
      "user_variable_name": "X",
      "variable_name": "X"
     }
    },
    "ExecuteTime": {
     "end_time": "2023-08-28T05:37:07.623610Z",
     "start_time": "2023-08-28T05:26:52.266440Z"
    }
   },
   "execution_count": 14,
   "source": [
    "from sklearn.linear_model import LassoLarsCV\n",
    "X_new = rfecv.fit_transform(X,y)\n",
    "model = LassoLarsCV(cv=cv, n_jobs=-1).fit(X_new,y)\n",
    "model.score(X_new,y)"
   ],
   "outputs": [
    {
     "data": {
      "text/plain": "0.9623489734374702"
     },
     "execution_count": 14,
     "metadata": {},
     "output_type": "execute_result"
    }
   ]
  },
  {
   "id": "a042ba5e-1678-4106-9d30-dc654b0a70e2",
   "cell_type": "code",
   "metadata": {
    "jupyter": {
     "outputs_hidden": false,
     "source_hidden": false
    },
    "noteable": {
     "cell_type": "code"
    },
    "ExecuteTime": {
     "end_time": "2023-08-28T05:43:07.431973Z",
     "start_time": "2023-08-28T05:43:07.406743Z"
    }
   },
   "execution_count": 21,
   "source": [
    "y_pred = model.predict(X_new)\n",
    "\n",
    "rmse = np.sqrt(np.mean((y_pred - y)**2))\n",
    "print(\"RMSE:\", rmse)"
   ],
   "outputs": [
    {
     "name": "stdout",
     "output_type": "stream",
     "text": [
      "RMSE: 15.842474704516036\n"
     ]
    }
   ]
  },
  {
   "cell_type": "code",
   "execution_count": 20,
   "outputs": [
    {
     "data": {
      "text/plain": "array([-19.74759259, -19.41025814, -20.29549944, -18.61388328,\n       -19.38063973, -19.82453423, -19.52960718, -19.28517396,\n       -19.3338945 , -20.43594276, -20.76357464, -20.06638047,\n       -20.273367  , -19.97020763, -20.16301908, -19.54637486,\n       -19.38290123, -19.54379349, -20.40715488, -19.77552189,\n       -20.15881594, -19.69836139, -20.19025814, -19.24040404,\n       -19.10872054, -20.22250281, -19.45544332, -19.81955107,\n       -20.02913019, -19.46950617, -19.86833895, -19.72114478,\n       -19.42976431, -20.25904602, -19.40820426, -20.0790853 ,\n       -19.09725028, -20.10083614, -19.13117845, -19.72657127,\n       -20.45286195, -20.6344725 , -20.01056117, -19.8572615 ,\n       -19.72285073, -20.34377104, -20.27020202, -19.96565095,\n       -20.04969136, -20.29842873, -19.91207632, -19.78194725,\n       -19.25448373, -20.27244669, -19.46756453, -19.23962963,\n       -19.91551627, -19.1875982 , -20.74284512, -19.9802862 ,\n       -19.30717733, -20.27225589, -19.34414703, -19.88916386,\n       -19.23848485, -19.32425926, -19.64351291, -20.26274411,\n       -19.61117845, -20.66411336, -19.72076319, -19.7541807 ,\n       -20.06030303, -20.472211  , -19.53272727, -18.34234568,\n       -18.97827722, -19.67777778, -18.97046577, -20.16640853,\n       -19.43159371, -19.63457912, -19.75406285, -19.35910774,\n       -19.31844557, -19.20631313, -19.18627946, -19.2562009 ,\n       -19.63966891, -19.3869697 , -19.19734568, -18.49507295,\n       -20.30305836, -20.07592593, -20.91649832, -19.73050505,\n       -19.4149046 , -20.4241807 , -19.85932099, -20.12987093,\n       -19.68808081, -19.44115039, -19.64533109, -19.10159933,\n       -19.61170595, -19.17621773, -19.73736813, -19.66352413,\n       -19.50901235, -20.38072391, -19.56104938, -19.02105499,\n       -19.51486532, -19.76290123, -19.57369809, -19.46486532,\n       -19.28574074, -18.97031425, -19.9230752 , -19.64671717,\n       -20.1952413 , -20.50362514, -19.95833333, -19.33417508,\n       -19.52305275, -20.22466891, -19.31794613, -20.59699214,\n       -19.4150954 , -20.23359147, -20.89551627, -19.88757576,\n       -20.22526936, -20.61564534, -20.04425365, -20.07306397,\n       -19.51682941, -19.87448934, -19.57762065, -19.88063412,\n       -19.6959147 , -19.67953984, -19.97021324, -19.57437149,\n       -19.68749719, -20.57480359, -18.84236251, -20.33989899,\n       -20.09370932, -19.9150954 , -19.87252525, -19.82135241,\n       -19.57088664, -19.89616162, -19.45929293, -20.70353535,\n       -20.04661616, -20.42943322, -19.98853535, -20.44632997,\n       -20.13352413, -19.37676768, -18.99606061, -20.42221661,\n       -18.64965769, -19.46708193, -19.96153199, -18.94456229,\n       -19.78511223, -19.38167228, -19.93185746, -19.56498878,\n       -18.95333333, -19.66906285, -19.73249158, -18.82691919,\n       -19.48578563, -20.32363636, -19.7117789 , -19.4273064 ,\n       -19.44681257, -19.37921437, -20.51537037, -19.25287318,\n       -19.46223906, -20.32367003, -19.89722222, -19.15322671,\n       -20.44450617, -20.02031425, -19.05984287, -19.78828283,\n       -19.3473064 , -19.60835017, -19.09042649, -20.09327722,\n       -20.05082492, -20.57907969, -19.92901796, -19.01273288,\n       -20.23470258, -20.1904321 , -18.93679574, -19.77053311,\n       -19.92386644, -19.87866442, -20.18943322, -20.28332772,\n       -19.96173401, -18.97946128, -19.72970819, -19.67422559,\n       -19.54660494, -18.88076319, -19.8179798 , -19.48751964,\n       -20.51079125, -20.10118967, -20.15712682, -19.6140404 ,\n       -19.77606622, -19.82363636, -19.3722615 , -19.26825477,\n       -18.80852413, -19.59097643, -19.2406734 , -19.32929293,\n       -19.74648709, -19.91795174, -19.23302469, -19.66760943,\n       -19.66126824, -19.64515152, -19.98344557, -19.26401796,\n       -20.12194164, -19.88921998, -20.19271605, -19.43824355,\n       -19.59034792, -20.4171156 , -19.7276431 , -19.82226712,\n       -19.5680303 , -19.76577441, -19.34964646, -19.16151515,\n       -19.92950056, -19.54957912, -19.11117845, -19.92217733,\n       -19.13639731, -19.72507856, -19.1523569 , -19.88430415,\n       -19.46559484, -20.76081369, -19.711156  , -19.98465208,\n       -19.16534792, -19.24546577, -19.41581369, -19.77056117,\n       -20.06290685, -19.48017957, -19.46121212, -19.82937149,\n       -18.76421437, -19.85679012, -20.42186308, -20.337789  ,\n       -20.4148541 , -19.84508979, -20.15982043, -20.02819304,\n       -19.74613356, -19.86863636, -20.11076319, -19.78141414,\n       -19.28767677, -19.14661616, -19.74201459, -19.97810887,\n       -20.01567901, -19.20023008, -19.75387767, -19.89919753,\n       -20.1185073 , -19.47038721, -19.98699214, -20.07078563,\n       -20.18748597, -19.98712121, -19.92390011, -19.45799102,\n       -19.61661055, -20.02820988, -19.26162738, -19.83911336,\n       -19.69227834, -20.28864759, -20.08109428, -20.35799663,\n       -19.40630752, -18.95334456, -18.56580247, -20.09526936,\n       -20.22126263, -20.0220202 , -20.34751964, -19.5235578 ,\n       -19.80428732, -19.13758698, -19.43109989, -19.73683502,\n       -19.54867003, -20.04861392, -20.13959035, -19.58833895,\n       -19.83162738, -20.3974523 , -20.14922559, -19.95262065,\n       -21.04287879, -19.65333333, -19.13267116, -19.89161055,\n       -19.91043771, -19.17393939, -20.07723345, -19.80465208,\n       -19.91386644, -20.58183502, -19.61517957, -19.22143659,\n       -20.65733446, -18.76315937, -20.41820426, -19.95626263,\n       -19.40580247, -19.85445006, -20.21529181, -20.32319865,\n       -19.14160494, -19.76347363, -20.42219978, -20.19210999,\n       -19.54347924, -20.10007295, -19.32185746, -19.99852413,\n       -19.82153199, -19.69075758, -19.31583053, -20.53078002,\n       -19.67574635, -20.14438272, -19.94260943, -18.99309764,\n       -20.16458474, -19.62916947, -19.69061728, -19.78551627,\n       -20.70887205, -21.14189675, -19.96074074, -19.64414141,\n       -20.19710438, -20.3094725 , -19.82144781, -20.06190236,\n       -19.39497755, -20.05787879, -19.78927048, -19.5354321 ,\n       -20.21335578, -19.38021886, -19.97839506, -20.65204826,\n       -20.20166667, -19.65325477, -18.90924804, -20.00371493,\n       -19.39296857, -19.65721661, -20.22694725, -20.04207632,\n       -19.72207071, -20.63646465, -19.87654321, -19.59441077,\n       -19.21864759, -20.00087542, -19.57511223, -20.2112009 ,\n       -19.80305275, -19.61329405, -19.86063973, -19.7190404 ,\n       -19.67800224, -19.86375421, -20.03474747, -20.80334456,\n       -21.08025253, -19.79003367])"
     },
     "execution_count": 20,
     "metadata": {},
     "output_type": "execute_result"
    }
   ],
   "source": [
    "rfecv.cv_results_[\"mean_test_score\"]"
   ],
   "metadata": {
    "collapsed": false,
    "ExecuteTime": {
     "end_time": "2023-08-28T05:43:05.206914Z",
     "start_time": "2023-08-28T05:43:05.199473Z"
    }
   }
  },
  {
   "cell_type": "code",
   "execution_count": 17,
   "outputs": [
    {
     "data": {
      "text/plain": "<Figure size 640x480 with 1 Axes>",
      "image/png": "[encoded data removed]"
     },
     "metadata": {},
     "output_type": "display_data"
    }
   ],
   "source": [
    "plt.scatter(\n",
    "    range(50, n_scores + 50),\n",
    "    rfecv.cv_results_[\"mean_test_score\"]\n",
    ")\n",
    "plt.title(\"Recursive Feature Elimination \\nwith correlated features\")\n",
    "plt.show()"
   ],
   "metadata": {
    "collapsed": false,
    "ExecuteTime": {
     "end_time": "2023-08-28T05:38:28.642922Z",
     "start_time": "2023-08-28T05:38:28.552582Z"
    }
   }
  },
  {
   "cell_type": "code",
   "execution_count": 18,
   "outputs": [
    {
     "data": {
      "text/plain": "(163, 125)"
     },
     "execution_count": 18,
     "metadata": {},
     "output_type": "execute_result"
    }
   ],
   "source": [
    "X_new.shape"
   ],
   "metadata": {
    "collapsed": false,
    "ExecuteTime": {
     "end_time": "2023-08-28T05:38:59.949505Z",
     "start_time": "2023-08-28T05:38:59.947223Z"
    }
   }
  },
  {
   "cell_type": "markdown",
   "source": [
    "## Testing the model with different data\n"
   ],
   "metadata": {
    "collapsed": false
   }
  },
  {
   "cell_type": "code",
   "execution_count": 82,
   "outputs": [
    {
     "data": {
      "text/plain": "<Figure size 640x480 with 1 Axes>",
      "image/png": "[encoded data removed]"
     },
     "metadata": {},
     "output_type": "display_data"
    }
   ],
   "source": [
    "from sklearn.model_selection import cross_val_score\n",
    "from sklearn.model_selection import RepeatedKFold, RepeatedStratifiedKFold\n",
    "from sklearn.linear_model import LassoLarsCV\n",
    "from sklearn.ensemble import RandomForestRegressor,ExtraTreesRegressor\n",
    "from sklearn.feature_selection import RFECV\n",
    "\n",
    "cv = RepeatedStratifiedKFold(n_splits=3,n_repeats=3, random_state=1)\n",
    "\n",
    "\n",
    "rfecv = RFECV(estimator=ExtraTreesRegressor(),cv=cv,scoring=\"neg_root_mean_squared_error\",min_features_to_select=50,n_jobs=-1).fit(X,y)\n",
    "n_scores = len(rfecv.cv_results_[\"mean_test_score\"])\n",
    "plt.figure()\n",
    "plt.xlabel(\"Number of features selected\")\n",
    "plt.ylabel(\"Mean test accuracy\")\n",
    "plt.errorbar(\n",
    "    range(50, n_scores + 50),\n",
    "    rfecv.cv_results_[\"mean_test_score\"],\n",
    "    yerr=rfecv.cv_results_[\"std_test_score\"],\n",
    ")\n",
    "plt.title(\"Recursive Feature Elimination \\nwith correlated features\")\n",
    "plt.show()"
   ],
   "metadata": {
    "collapsed": false,
    "ExecuteTime": {
     "end_time": "2023-09-03T08:55:03.955723Z",
     "start_time": "2023-09-03T08:47:41.435195Z"
    }
   }
  },
  {
   "cell_type": "code",
   "execution_count": 90,
   "outputs": [
    {
     "data": {
      "text/plain": "0.9534539538405529"
     },
     "execution_count": 90,
     "metadata": {},
     "output_type": "execute_result"
    }
   ],
   "source": [
    "X_new = rfecv.fit_transform(X,y)\n",
    "model = LassoLarsCV(cv=cv, n_jobs=-1).fit(X_new,y)\n",
    "model.score(X_new,y)"
   ],
   "metadata": {
    "collapsed": false,
    "ExecuteTime": {
     "end_time": "2023-09-03T09:14:31.916638Z",
     "start_time": "2023-09-03T09:07:09.181138Z"
    }
   }
  },
  {
   "cell_type": "code",
   "execution_count": 92,
   "outputs": [
    {
     "name": "stdout",
     "output_type": "stream",
     "text": [
      "RMSE: 17.614730759230046\n"
     ]
    }
   ],
   "source": [
    "y_pred = model.predict(X_new)\n",
    "\n",
    "rmse = np.sqrt(np.mean((y_pred - y)**2))\n",
    "print(\"RMSE:\", rmse)"
   ],
   "metadata": {
    "collapsed": false,
    "ExecuteTime": {
     "end_time": "2023-09-03T09:15:12.409972Z",
     "start_time": "2023-09-03T09:15:12.265719Z"
    }
   }
  },
  {
   "cell_type": "code",
   "execution_count": 93,
   "outputs": [
    {
     "data": {
      "text/plain": "     320    321    322    323    324    325    326    327    328    329  ...  \\\n0  0.333  0.339  0.346  0.351  0.362  0.373  0.388  0.393  0.404  0.410  ...   \n1  0.309  0.315  0.321  0.326  0.338  0.350  0.365  0.372  0.382  0.389  ...   \n2  0.315  0.321  0.329  0.334  0.346  0.359  0.375  0.381  0.393  0.401  ...   \n3  0.320  0.327  0.332  0.336  0.348  0.360  0.375  0.382  0.393  0.401  ...   \n4  0.394  0.400  0.408  0.413  0.426  0.437  0.454  0.460  0.472  0.479  ...   \n5  0.308  0.313  0.320  0.325  0.336  0.348  0.365  0.372  0.384  0.393  ...   \n6  0.358  0.362  0.369  0.374  0.385  0.397  0.414  0.421  0.434  0.442  ...   \n\n     992    993    994    995    996    997    998    999   1000  \\\n0  0.239  0.237  0.235  0.233  0.231  0.229  0.227  0.226  0.224   \n1  0.227  0.225  0.223  0.221  0.219  0.217  0.216  0.214  0.212   \n2  0.210  0.208  0.206  0.205  0.203  0.201  0.199  0.198  0.196   \n3  0.210  0.208  0.206  0.205  0.203  0.201  0.200  0.198  0.197   \n4  0.218  0.217  0.215  0.213  0.211  0.210  0.208  0.207  0.206   \n5  0.196  0.194  0.192  0.191  0.189  0.187  0.186  0.184  0.183   \n6  0.193  0.192  0.190  0.188  0.186  0.185  0.183  0.182  0.181   \n\n   concentration  \n0            130  \n1            160  \n2            190  \n3            200  \n4            230  \n5            260  \n6            300  \n\n[7 rows x 682 columns]",
      "text/html": "<div>\n<style scoped>\n    .dataframe tbody tr th:only-of-type {\n        vertical-align: middle;\n    }\n\n    .dataframe tbody tr th {\n        vertical-align: top;\n    }\n\n    .dataframe thead th {\n        text-align: right;\n    }\n</style>\n<table border=\"1\" class=\"dataframe\">\n  <thead>\n    <tr style=\"text-align: right;\">\n      <th></th>\n      <th>320</th>\n      <th>321</th>\n      <th>322</th>\n      <th>323</th>\n      <th>324</th>\n      <th>325</th>\n      <th>326</th>\n      <th>327</th>\n      <th>328</th>\n      <th>329</th>\n      <th>...</th>\n      <th>992</th>\n      <th>993</th>\n      <th>994</th>\n      <th>995</th>\n      <th>996</th>\n      <th>997</th>\n      <th>998</th>\n      <th>999</th>\n      <th>1000</th>\n      <th>concentration</th>\n    </tr>\n  </thead>\n  <tbody>\n    <tr>\n      <th>0</th>\n      <td>0.333</td>\n      <td>0.339</td>\n      <td>0.346</td>\n      <td>0.351</td>\n      <td>0.362</td>\n      <td>0.373</td>\n      <td>0.388</td>\n      <td>0.393</td>\n      <td>0.404</td>\n      <td>0.410</td>\n      <td>...</td>\n      <td>0.239</td>\n      <td>0.237</td>\n      <td>0.235</td>\n      <td>0.233</td>\n      <td>0.231</td>\n      <td>0.229</td>\n      <td>0.227</td>\n      <td>0.226</td>\n      <td>0.224</td>\n      <td>130</td>\n    </tr>\n    <tr>\n      <th>1</th>\n      <td>0.309</td>\n      <td>0.315</td>\n      <td>0.321</td>\n      <td>0.326</td>\n      <td>0.338</td>\n      <td>0.350</td>\n      <td>0.365</td>\n      <td>0.372</td>\n      <td>0.382</td>\n      <td>0.389</td>\n      <td>...</td>\n      <td>0.227</td>\n      <td>0.225</td>\n      <td>0.223</td>\n      <td>0.221</td>\n      <td>0.219</td>\n      <td>0.217</td>\n      <td>0.216</td>\n      <td>0.214</td>\n      <td>0.212</td>\n      <td>160</td>\n    </tr>\n    <tr>\n      <th>2</th>\n      <td>0.315</td>\n      <td>0.321</td>\n      <td>0.329</td>\n      <td>0.334</td>\n      <td>0.346</td>\n      <td>0.359</td>\n      <td>0.375</td>\n      <td>0.381</td>\n      <td>0.393</td>\n      <td>0.401</td>\n      <td>...</td>\n      <td>0.210</td>\n      <td>0.208</td>\n      <td>0.206</td>\n      <td>0.205</td>\n      <td>0.203</td>\n      <td>0.201</td>\n      <td>0.199</td>\n      <td>0.198</td>\n      <td>0.196</td>\n      <td>190</td>\n    </tr>\n    <tr>\n      <th>3</th>\n      <td>0.320</td>\n      <td>0.327</td>\n      <td>0.332</td>\n      <td>0.336</td>\n      <td>0.348</td>\n      <td>0.360</td>\n      <td>0.375</td>\n      <td>0.382</td>\n      <td>0.393</td>\n      <td>0.401</td>\n      <td>...</td>\n      <td>0.210</td>\n      <td>0.208</td>\n      <td>0.206</td>\n      <td>0.205</td>\n      <td>0.203</td>\n      <td>0.201</td>\n      <td>0.200</td>\n      <td>0.198</td>\n      <td>0.197</td>\n      <td>200</td>\n    </tr>\n    <tr>\n      <th>4</th>\n      <td>0.394</td>\n      <td>0.400</td>\n      <td>0.408</td>\n      <td>0.413</td>\n      <td>0.426</td>\n      <td>0.437</td>\n      <td>0.454</td>\n      <td>0.460</td>\n      <td>0.472</td>\n      <td>0.479</td>\n      <td>...</td>\n      <td>0.218</td>\n      <td>0.217</td>\n      <td>0.215</td>\n      <td>0.213</td>\n      <td>0.211</td>\n      <td>0.210</td>\n      <td>0.208</td>\n      <td>0.207</td>\n      <td>0.206</td>\n      <td>230</td>\n    </tr>\n    <tr>\n      <th>5</th>\n      <td>0.308</td>\n      <td>0.313</td>\n      <td>0.320</td>\n      <td>0.325</td>\n      <td>0.336</td>\n      <td>0.348</td>\n      <td>0.365</td>\n      <td>0.372</td>\n      <td>0.384</td>\n      <td>0.393</td>\n      <td>...</td>\n      <td>0.196</td>\n      <td>0.194</td>\n      <td>0.192</td>\n      <td>0.191</td>\n      <td>0.189</td>\n      <td>0.187</td>\n      <td>0.186</td>\n      <td>0.184</td>\n      <td>0.183</td>\n      <td>260</td>\n    </tr>\n    <tr>\n      <th>6</th>\n      <td>0.358</td>\n      <td>0.362</td>\n      <td>0.369</td>\n      <td>0.374</td>\n      <td>0.385</td>\n      <td>0.397</td>\n      <td>0.414</td>\n      <td>0.421</td>\n      <td>0.434</td>\n      <td>0.442</td>\n      <td>...</td>\n      <td>0.193</td>\n      <td>0.192</td>\n      <td>0.190</td>\n      <td>0.188</td>\n      <td>0.186</td>\n      <td>0.185</td>\n      <td>0.183</td>\n      <td>0.182</td>\n      <td>0.181</td>\n      <td>300</td>\n    </tr>\n  </tbody>\n</table>\n<p>7 rows × 682 columns</p>\n</div>"
     },
     "execution_count": 93,
     "metadata": {},
     "output_type": "execute_result"
    }
   ],
   "source": [
    "test_data = pd.read_excel(\"test_data.xlsx\")\n",
    "test_data"
   ],
   "metadata": {
    "collapsed": false,
    "ExecuteTime": {
     "end_time": "2023-09-03T09:15:15.012658Z",
     "start_time": "2023-09-03T09:15:14.965006Z"
    }
   }
  },
  {
   "cell_type": "code",
   "execution_count": 96,
   "outputs": [
    {
     "name": "stderr",
     "output_type": "stream",
     "text": [
      "/Applications/Ananconda/anaconda3/lib/python3.11/site-packages/sklearn/base.py:439: UserWarning: X does not have valid feature names, but RFECV was fitted with feature names\n",
      "  warnings.warn(\n"
     ]
    },
    {
     "data": {
      "text/plain": "(7, 60)"
     },
     "execution_count": 96,
     "metadata": {},
     "output_type": "execute_result"
    }
   ],
   "source": [
    "X_test = test_data.iloc[:,:-1]\n",
    "y_test = test_data.iloc[:,-1]\n",
    "X_test_new = rfecv.transform(X_test)\n",
    "X_test_new.shape"
   ],
   "metadata": {
    "collapsed": false,
    "ExecuteTime": {
     "end_time": "2023-09-03T09:15:27.658025Z",
     "start_time": "2023-09-03T09:15:27.654133Z"
    }
   }
  },
  {
   "cell_type": "code",
   "execution_count": 98,
   "outputs": [
    {
     "name": "stdout",
     "output_type": "stream",
     "text": [
      "RMSE: 99.08829224090535\n"
     ]
    }
   ],
   "source": [
    "y_pred = model.predict(X_test_new)\n",
    "\n",
    "rmse = np.sqrt(np.mean((y_pred - y_test)**2))\n",
    "print(\"RMSE:\", rmse)"
   ],
   "metadata": {
    "collapsed": false,
    "ExecuteTime": {
     "end_time": "2023-09-03T09:15:34.971639Z",
     "start_time": "2023-09-03T09:15:34.969003Z"
    }
   }
  },
  {
   "cell_type": "code",
   "execution_count": 99,
   "outputs": [
    {
     "data": {
      "text/plain": "-2.369089588947717"
     },
     "execution_count": 99,
     "metadata": {},
     "output_type": "execute_result"
    }
   ],
   "source": [
    "from sklearn.metrics import r2_score\n",
    "r2_score(y_test,y_pred)"
   ],
   "metadata": {
    "collapsed": false,
    "ExecuteTime": {
     "end_time": "2023-09-03T09:15:37.138025Z",
     "start_time": "2023-09-03T09:15:37.130693Z"
    }
   }
  },
  {
   "cell_type": "markdown",
   "source": [
    "## PCA Algorithm\n"
   ],
   "metadata": {
    "collapsed": false
   }
  },
  {
   "cell_type": "code",
   "execution_count": 19,
   "outputs": [
    {
     "data": {
      "text/plain": "Text(0.5, 1.0, 'n_components vs. Explained Variance Ratio')"
     },
     "execution_count": 19,
     "metadata": {},
     "output_type": "execute_result"
    },
    {
     "data": {
      "text/plain": "<Figure size 600x300 with 1 Axes>",
      "image/png": "[encoded data removed]"
     },
     "metadata": {},
     "output_type": "display_data"
    }
   ],
   "source": [
    "from sklearn.decomposition import IncrementalPCA\n",
    "from sklearn.preprocessing import StandardScaler\n",
    "st = StandardScaler()\n",
    "data.columns = data.columns.astype(str)\n",
    "dat = st.fit_transform(data.iloc[:,:-3])\n",
    "num = np.arange(1,10)\n",
    "\n",
    "variance = []\n",
    "for i in num:\n",
    "     pca = IncrementalPCA(n_components=i, batch_size=10)\n",
    "     pca.fit(dat)\n",
    "     variance.append(np.sum(pca.explained_variance_ratio_))\n",
    "\n",
    "plt.figure(figsize=(4,2),dpi=150)\n",
    "plt.grid()\n",
    "plt.plot(num,variance,marker='o')\n",
    "plt.xlabel('n_components')\n",
    "plt.ylabel('Explained variance ratio')\n",
    "plt.title('n_components vs. Explained Variance Ratio')"
   ],
   "metadata": {
    "collapsed": false,
    "ExecuteTime": {
     "end_time": "2023-09-03T17:13:01.721099Z",
     "start_time": "2023-09-03T17:13:01.412862Z"
    }
   }
  },
  {
   "cell_type": "code",
   "execution_count": 18,
   "outputs": [
    {
     "name": "stdout",
     "output_type": "stream",
     "text": [
      "[0.5483254189957175, 0.8328268133084122, 0.9474482654227266, 0.9834218844293476, 0.9928547020377491, 0.9979224853250999, 0.998969738831636, 0.9993624708114237, 0.9996398472970422]\n"
     ]
    }
   ],
   "source": [
    "print(variance)"
   ],
   "metadata": {
    "collapsed": false,
    "ExecuteTime": {
     "end_time": "2023-09-03T17:12:51.452800Z",
     "start_time": "2023-09-03T17:12:51.449205Z"
    }
   }
  },
  {
   "cell_type": "code",
   "execution_count": null,
   "outputs": [],
   "source": [],
   "metadata": {
    "collapsed": false
   }
  }
 ]
}
